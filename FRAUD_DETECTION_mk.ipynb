{
  "nbformat": 4,
  "nbformat_minor": 0,
  "metadata": {
    "colab": {
      "name": "FRAUD DETECTION-mk",
      "provenance": [],
      "collapsed_sections": [],
      "include_colab_link": true
    },
    "kernelspec": {
      "name": "python3",
      "display_name": "Python 3"
    },
    "language_info": {
      "name": "python"
    },
    "accelerator": "GPU"
  },
  "cells": [
    {
      "cell_type": "markdown",
      "metadata": {
        "id": "view-in-github",
        "colab_type": "text"
      },
      "source": [
        "<a href=\"https://colab.research.google.com/github/kiplangat-david/Bank-Payments-Fraud-Detection/blob/main/FRAUD_DETECTION_mk.ipynb\" target=\"_parent\"><img src=\"https://colab.research.google.com/assets/colab-badge.svg\" alt=\"Open In Colab\"/></a>"
      ]
    },
    {
      "cell_type": "markdown",
      "source": [
        "# **Group - Wakanda**\n",
        "1. Peter Kirimi - **Team Lead**\n",
        "2. Esther Roberts\n",
        "3. Farnadis Kanja\n",
        "4. David Kiplagat\n",
        "5. Faith Rotich\n",
        "6. Mutura Kuria"
      ],
      "metadata": {
        "id": "rJPa4NQRJS0p"
      }
    },
    {
      "cell_type": "markdown",
      "source": [
        "# Fraud Detection on Bank Payments\n",
        "\n",
        "## Specifying the Question\n",
        "\n",
        "\n",
        "1. **Build a model that predicts fraud detection on bank payments**\n",
        "\n",
        "     ***Others***\n",
        "\n",
        "2. Analyze and determine the industries that are prone to fraud. \n",
        "\n",
        "3. Determine the monetary threshold at which fraud is likely to occur. \n",
        "\n",
        "4. Determine the age group that is at risk of fraudulent behavior in banking. \n",
        "\n",
        "5. Determine which gender is at risk of fraudulent behavior. \n",
        "\n",
        "6. Determine what percentage of all transactions are fraudulent.\n",
        "\n",
        "\n",
        "\n"
      ],
      "metadata": {
        "id": "NirioPGcbx9C"
      }
    },
    {
      "cell_type": "markdown",
      "source": [
        "## Defining the Metric for Success\n",
        "\n",
        "This project will be successful if Our model achieve at least 80% ROC_UC"
      ],
      "metadata": {
        "id": "XGmbIaqite8_"
      }
    },
    {
      "cell_type": "markdown",
      "source": [
        "## Understanding the Context\n",
        "Fraudulent behavior can be seen across many different fields such as e-commerce, healthcare, payment and banking systems. Fraud is a billion-dollar business and it is increasing every year. The PwC global economic crime survey of 2018 found that half (49 percent) of the 7,200 companies they surveyed had experienced fraud of some kind.\n",
        "\n",
        "Even if fraud seems to be scary for businesses it can be detected using intelligent systems such as rules engines or machine learning.For these type of problems ML comes for help and reduce the risk of frauds and the risk of business to lose money."
      ],
      "metadata": {
        "id": "YpMy67KQtvxt"
      }
    },
    {
      "cell_type": "markdown",
      "source": [
        "## Recording the Experimental Design\n",
        "\n",
        "\n",
        "1. Import Libraries\n",
        "\n",
        "2. Load Dataset\n",
        "\n",
        "3. Perform Data Cleaning\n",
        "\n",
        "4. Exploratory Data Analysis\n",
        "\n",
        "5. Data Preprocessing\n",
        "\n",
        "6. Model Training\n",
        "\n",
        "7. Model Evaluation\n",
        "\n",
        "8. Follow up Questions\n",
        "\n",
        "9. Conclusions"
      ],
      "metadata": {
        "id": "hSNx0mBivqjL"
      }
    },
    {
      "cell_type": "markdown",
      "source": [
        "## Data Relevance\n",
        "**Banksim dataset**\n",
        "We detect the fraudulent transactions from the *Banksim dataset*. This synthetically generated dataset consists of payments from various customers made in different time periods and with different amounts. "
      ],
      "metadata": {
        "id": "egZ7ZmmRwk5_"
      }
    },
    {
      "cell_type": "markdown",
      "source": [
        "## Import Libraries"
      ],
      "metadata": {
        "id": "0ddNZ_xuealJ"
      }
    },
    {
      "cell_type": "code",
      "execution_count": null,
      "metadata": {
        "id": "kNMt29_A6G2w"
      },
      "outputs": [],
      "source": [
        "import numpy as np\n",
        "import pandas as pd\n",
        "import matplotlib.pyplot as plt\n",
        "import seaborn as sns\n",
        "%matplotlib inline\n",
        "from sklearn.preprocessing import StandardScaler\n",
        "from sklearn.model_selection import train_test_split\n",
        "from sklearn.ensemble import RandomForestClassifier\n",
        "from sklearn.neighbors import KNeighborsClassifier\n",
        "from sklearn.model_selection import GridSearchCV\n",
        "from sklearn.svm import SVC,LinearSVC\n",
        "from sklearn import metrics\n",
        "from sklearn.metrics import  accuracy_score\n",
        "from sklearn.metrics import confusion_matrix\n",
        "import warnings\n",
        "warnings.filterwarnings(\"ignore\")"
      ]
    },
    {
      "cell_type": "markdown",
      "source": [
        "## Load Data"
      ],
      "metadata": {
        "id": "gc-5sXFCe7NW"
      }
    },
    {
      "cell_type": "markdown",
      "source": [
        "As we can see in the first rows below the **dataset** has **9 feature columns** and **a target column**. \n",
        "\n",
        "The **feature columms** are :\n",
        "\n",
        "**Step**: This feature represents the day from the start of simulation. It has 180 steps so simulation ran for virtually 6 months.\n",
        "\n",
        "**Customer**: This feature represents the customer id\n",
        "\n",
        "**zipCodeOrigin**: The zip code of origin/source.\n",
        "\n",
        "**Merchant**: The merchant's id\n",
        "\n",
        "**zipMerchant**: The merchant's zip code\n",
        "\n",
        "**Age**: Categorized age\n",
        "\n",
        "0: <= 18,\n",
        "\n",
        "1: 19-25,\n",
        "\n",
        "2: 26-35,\n",
        "\n",
        "3: 36-45,\n",
        "\n",
        "4: 46:55,\n",
        "\n",
        "5: 56:65,\n",
        "\n",
        "6: > 65\n",
        "\n",
        "U: Unknown\n",
        "\n",
        "**Gender**: Gender for customer\n",
        "\n",
        "E : Enterprise,\n",
        "\n",
        "F: Female,\n",
        "\n",
        "M: Male,\n",
        "\n",
        "U: Unknown\n",
        "\n",
        "**Category**: Category of the purchase. \n",
        "We'll see them later in the analysis.\n",
        "\n",
        "**Amount**: Amount of the purchase\n",
        "\n",
        "**Fraud**: Target variable which shows if the transaction\n",
        " fraudulent(1) or benign(0)"
      ],
      "metadata": {
        "id": "Vf8mFZFrxTb3"
      }
    },
    {
      "cell_type": "code",
      "source": [
        "# Loading our dataset\n",
        "data = pd.read_csv('/content/bs140513_032310.csv')"
      ],
      "metadata": {
        "id": "6-6Y05096P6K"
      },
      "execution_count": null,
      "outputs": []
    },
    {
      "cell_type": "markdown",
      "source": [
        "## Data exploration"
      ],
      "metadata": {
        "id": "W_OdoJ0v3HC9"
      }
    },
    {
      "cell_type": "code",
      "source": [
        "#preview top 5 records\n",
        "data.head(5)"
      ],
      "metadata": {
        "id": "bzAP2wef-19I",
        "colab": {
          "base_uri": "https://localhost:8080/",
          "height": 206
        },
        "outputId": "99b3ce0f-55a2-49a3-fbb0-efeceac731fc"
      },
      "execution_count": null,
      "outputs": [
        {
          "output_type": "execute_result",
          "data": {
            "text/html": [
              "\n",
              "  <div id=\"df-f7379e2f-19fa-4fb5-8e4c-6778f48fdb62\">\n",
              "    <div class=\"colab-df-container\">\n",
              "      <div>\n",
              "<style scoped>\n",
              "    .dataframe tbody tr th:only-of-type {\n",
              "        vertical-align: middle;\n",
              "    }\n",
              "\n",
              "    .dataframe tbody tr th {\n",
              "        vertical-align: top;\n",
              "    }\n",
              "\n",
              "    .dataframe thead th {\n",
              "        text-align: right;\n",
              "    }\n",
              "</style>\n",
              "<table border=\"1\" class=\"dataframe\">\n",
              "  <thead>\n",
              "    <tr style=\"text-align: right;\">\n",
              "      <th></th>\n",
              "      <th>step</th>\n",
              "      <th>customer</th>\n",
              "      <th>age</th>\n",
              "      <th>gender</th>\n",
              "      <th>zipcodeOri</th>\n",
              "      <th>merchant</th>\n",
              "      <th>zipMerchant</th>\n",
              "      <th>category</th>\n",
              "      <th>amount</th>\n",
              "      <th>fraud</th>\n",
              "    </tr>\n",
              "  </thead>\n",
              "  <tbody>\n",
              "    <tr>\n",
              "      <th>0</th>\n",
              "      <td>0</td>\n",
              "      <td>'C1093826151'</td>\n",
              "      <td>'4'</td>\n",
              "      <td>'M'</td>\n",
              "      <td>'28007'</td>\n",
              "      <td>'M348934600'</td>\n",
              "      <td>'28007'</td>\n",
              "      <td>'es_transportation'</td>\n",
              "      <td>4.55</td>\n",
              "      <td>0.0</td>\n",
              "    </tr>\n",
              "    <tr>\n",
              "      <th>1</th>\n",
              "      <td>0</td>\n",
              "      <td>'C352968107'</td>\n",
              "      <td>'2'</td>\n",
              "      <td>'M'</td>\n",
              "      <td>'28007'</td>\n",
              "      <td>'M348934600'</td>\n",
              "      <td>'28007'</td>\n",
              "      <td>'es_transportation'</td>\n",
              "      <td>39.68</td>\n",
              "      <td>0.0</td>\n",
              "    </tr>\n",
              "    <tr>\n",
              "      <th>2</th>\n",
              "      <td>0</td>\n",
              "      <td>'C2054744914'</td>\n",
              "      <td>'4'</td>\n",
              "      <td>'F'</td>\n",
              "      <td>'28007'</td>\n",
              "      <td>'M1823072687'</td>\n",
              "      <td>'28007'</td>\n",
              "      <td>'es_transportation'</td>\n",
              "      <td>26.89</td>\n",
              "      <td>0.0</td>\n",
              "    </tr>\n",
              "    <tr>\n",
              "      <th>3</th>\n",
              "      <td>0</td>\n",
              "      <td>'C1760612790'</td>\n",
              "      <td>'3'</td>\n",
              "      <td>'M'</td>\n",
              "      <td>'28007'</td>\n",
              "      <td>'M348934600'</td>\n",
              "      <td>'28007'</td>\n",
              "      <td>'es_transportation'</td>\n",
              "      <td>17.25</td>\n",
              "      <td>0.0</td>\n",
              "    </tr>\n",
              "    <tr>\n",
              "      <th>4</th>\n",
              "      <td>0</td>\n",
              "      <td>'C757503768'</td>\n",
              "      <td>'5'</td>\n",
              "      <td>'M'</td>\n",
              "      <td>'28007'</td>\n",
              "      <td>'M348934600'</td>\n",
              "      <td>'28007'</td>\n",
              "      <td>'es_transportation'</td>\n",
              "      <td>35.72</td>\n",
              "      <td>0.0</td>\n",
              "    </tr>\n",
              "  </tbody>\n",
              "</table>\n",
              "</div>\n",
              "      <button class=\"colab-df-convert\" onclick=\"convertToInteractive('df-f7379e2f-19fa-4fb5-8e4c-6778f48fdb62')\"\n",
              "              title=\"Convert this dataframe to an interactive table.\"\n",
              "              style=\"display:none;\">\n",
              "        \n",
              "  <svg xmlns=\"http://www.w3.org/2000/svg\" height=\"24px\"viewBox=\"0 0 24 24\"\n",
              "       width=\"24px\">\n",
              "    <path d=\"M0 0h24v24H0V0z\" fill=\"none\"/>\n",
              "    <path d=\"M18.56 5.44l.94 2.06.94-2.06 2.06-.94-2.06-.94-.94-2.06-.94 2.06-2.06.94zm-11 1L8.5 8.5l.94-2.06 2.06-.94-2.06-.94L8.5 2.5l-.94 2.06-2.06.94zm10 10l.94 2.06.94-2.06 2.06-.94-2.06-.94-.94-2.06-.94 2.06-2.06.94z\"/><path d=\"M17.41 7.96l-1.37-1.37c-.4-.4-.92-.59-1.43-.59-.52 0-1.04.2-1.43.59L10.3 9.45l-7.72 7.72c-.78.78-.78 2.05 0 2.83L4 21.41c.39.39.9.59 1.41.59.51 0 1.02-.2 1.41-.59l7.78-7.78 2.81-2.81c.8-.78.8-2.07 0-2.86zM5.41 20L4 18.59l7.72-7.72 1.47 1.35L5.41 20z\"/>\n",
              "  </svg>\n",
              "      </button>\n",
              "      \n",
              "  <style>\n",
              "    .colab-df-container {\n",
              "      display:flex;\n",
              "      flex-wrap:wrap;\n",
              "      gap: 12px;\n",
              "    }\n",
              "\n",
              "    .colab-df-convert {\n",
              "      background-color: #E8F0FE;\n",
              "      border: none;\n",
              "      border-radius: 50%;\n",
              "      cursor: pointer;\n",
              "      display: none;\n",
              "      fill: #1967D2;\n",
              "      height: 32px;\n",
              "      padding: 0 0 0 0;\n",
              "      width: 32px;\n",
              "    }\n",
              "\n",
              "    .colab-df-convert:hover {\n",
              "      background-color: #E2EBFA;\n",
              "      box-shadow: 0px 1px 2px rgba(60, 64, 67, 0.3), 0px 1px 3px 1px rgba(60, 64, 67, 0.15);\n",
              "      fill: #174EA6;\n",
              "    }\n",
              "\n",
              "    [theme=dark] .colab-df-convert {\n",
              "      background-color: #3B4455;\n",
              "      fill: #D2E3FC;\n",
              "    }\n",
              "\n",
              "    [theme=dark] .colab-df-convert:hover {\n",
              "      background-color: #434B5C;\n",
              "      box-shadow: 0px 1px 3px 1px rgba(0, 0, 0, 0.15);\n",
              "      filter: drop-shadow(0px 1px 2px rgba(0, 0, 0, 0.3));\n",
              "      fill: #FFFFFF;\n",
              "    }\n",
              "  </style>\n",
              "\n",
              "      <script>\n",
              "        const buttonEl =\n",
              "          document.querySelector('#df-f7379e2f-19fa-4fb5-8e4c-6778f48fdb62 button.colab-df-convert');\n",
              "        buttonEl.style.display =\n",
              "          google.colab.kernel.accessAllowed ? 'block' : 'none';\n",
              "\n",
              "        async function convertToInteractive(key) {\n",
              "          const element = document.querySelector('#df-f7379e2f-19fa-4fb5-8e4c-6778f48fdb62');\n",
              "          const dataTable =\n",
              "            await google.colab.kernel.invokeFunction('convertToInteractive',\n",
              "                                                     [key], {});\n",
              "          if (!dataTable) return;\n",
              "\n",
              "          const docLinkHtml = 'Like what you see? Visit the ' +\n",
              "            '<a target=\"_blank\" href=https://colab.research.google.com/notebooks/data_table.ipynb>data table notebook</a>'\n",
              "            + ' to learn more about interactive tables.';\n",
              "          element.innerHTML = '';\n",
              "          dataTable['output_type'] = 'display_data';\n",
              "          await google.colab.output.renderOutput(dataTable, element);\n",
              "          const docLink = document.createElement('div');\n",
              "          docLink.innerHTML = docLinkHtml;\n",
              "          element.appendChild(docLink);\n",
              "        }\n",
              "      </script>\n",
              "    </div>\n",
              "  </div>\n",
              "  "
            ],
            "text/plain": [
              "   step       customer  age  ...             category amount fraud\n",
              "0     0  'C1093826151'  '4'  ...  'es_transportation'   4.55   0.0\n",
              "1     0   'C352968107'  '2'  ...  'es_transportation'  39.68   0.0\n",
              "2     0  'C2054744914'  '4'  ...  'es_transportation'  26.89   0.0\n",
              "3     0  'C1760612790'  '3'  ...  'es_transportation'  17.25   0.0\n",
              "4     0   'C757503768'  '5'  ...  'es_transportation'  35.72   0.0\n",
              "\n",
              "[5 rows x 10 columns]"
            ]
          },
          "metadata": {},
          "execution_count": 159
        }
      ]
    },
    {
      "cell_type": "code",
      "source": [
        "#preview bottom 5 records\n",
        "data.tail(5)"
      ],
      "metadata": {
        "colab": {
          "base_uri": "https://localhost:8080/",
          "height": 206
        },
        "id": "ShcM3z2ifkWl",
        "outputId": "6e7bbfdc-59c9-421f-b6ac-43e8e5c5c014"
      },
      "execution_count": null,
      "outputs": [
        {
          "output_type": "execute_result",
          "data": {
            "text/html": [
              "\n",
              "  <div id=\"df-a0532ab4-8fbd-4e1c-805b-bb12cbf9b204\">\n",
              "    <div class=\"colab-df-container\">\n",
              "      <div>\n",
              "<style scoped>\n",
              "    .dataframe tbody tr th:only-of-type {\n",
              "        vertical-align: middle;\n",
              "    }\n",
              "\n",
              "    .dataframe tbody tr th {\n",
              "        vertical-align: top;\n",
              "    }\n",
              "\n",
              "    .dataframe thead th {\n",
              "        text-align: right;\n",
              "    }\n",
              "</style>\n",
              "<table border=\"1\" class=\"dataframe\">\n",
              "  <thead>\n",
              "    <tr style=\"text-align: right;\">\n",
              "      <th></th>\n",
              "      <th>step</th>\n",
              "      <th>customer</th>\n",
              "      <th>age</th>\n",
              "      <th>gender</th>\n",
              "      <th>zipcodeOri</th>\n",
              "      <th>merchant</th>\n",
              "      <th>zipMerchant</th>\n",
              "      <th>category</th>\n",
              "      <th>amount</th>\n",
              "      <th>fraud</th>\n",
              "    </tr>\n",
              "  </thead>\n",
              "  <tbody>\n",
              "    <tr>\n",
              "      <th>25920</th>\n",
              "      <td>10</td>\n",
              "      <td>'C1668825144'</td>\n",
              "      <td>'6'</td>\n",
              "      <td>'F'</td>\n",
              "      <td>'28007'</td>\n",
              "      <td>'M348934600'</td>\n",
              "      <td>'28007'</td>\n",
              "      <td>'es_transportation'</td>\n",
              "      <td>39.04</td>\n",
              "      <td>0.0</td>\n",
              "    </tr>\n",
              "    <tr>\n",
              "      <th>25921</th>\n",
              "      <td>10</td>\n",
              "      <td>'C179748485'</td>\n",
              "      <td>'2'</td>\n",
              "      <td>'M'</td>\n",
              "      <td>'28007'</td>\n",
              "      <td>'M348934600'</td>\n",
              "      <td>'28007'</td>\n",
              "      <td>'es_transportation'</td>\n",
              "      <td>39.41</td>\n",
              "      <td>0.0</td>\n",
              "    </tr>\n",
              "    <tr>\n",
              "      <th>25922</th>\n",
              "      <td>10</td>\n",
              "      <td>'C767740583'</td>\n",
              "      <td>'2'</td>\n",
              "      <td>'F'</td>\n",
              "      <td>'28007'</td>\n",
              "      <td>'M348934600'</td>\n",
              "      <td>'28007'</td>\n",
              "      <td>'es_transportation'</td>\n",
              "      <td>49.01</td>\n",
              "      <td>0.0</td>\n",
              "    </tr>\n",
              "    <tr>\n",
              "      <th>25923</th>\n",
              "      <td>10</td>\n",
              "      <td>'C1929968596'</td>\n",
              "      <td>'2'</td>\n",
              "      <td>'F'</td>\n",
              "      <td>'28007'</td>\n",
              "      <td>'M348934600'</td>\n",
              "      <td>'28007'</td>\n",
              "      <td>'es_transportation'</td>\n",
              "      <td>67.37</td>\n",
              "      <td>0.0</td>\n",
              "    </tr>\n",
              "    <tr>\n",
              "      <th>25924</th>\n",
              "      <td>10</td>\n",
              "      <td>'C1530262146'</td>\n",
              "      <td>'2'</td>\n",
              "      <td>'M'</td>\n",
              "      <td>NaN</td>\n",
              "      <td>NaN</td>\n",
              "      <td>NaN</td>\n",
              "      <td>NaN</td>\n",
              "      <td>NaN</td>\n",
              "      <td>NaN</td>\n",
              "    </tr>\n",
              "  </tbody>\n",
              "</table>\n",
              "</div>\n",
              "      <button class=\"colab-df-convert\" onclick=\"convertToInteractive('df-a0532ab4-8fbd-4e1c-805b-bb12cbf9b204')\"\n",
              "              title=\"Convert this dataframe to an interactive table.\"\n",
              "              style=\"display:none;\">\n",
              "        \n",
              "  <svg xmlns=\"http://www.w3.org/2000/svg\" height=\"24px\"viewBox=\"0 0 24 24\"\n",
              "       width=\"24px\">\n",
              "    <path d=\"M0 0h24v24H0V0z\" fill=\"none\"/>\n",
              "    <path d=\"M18.56 5.44l.94 2.06.94-2.06 2.06-.94-2.06-.94-.94-2.06-.94 2.06-2.06.94zm-11 1L8.5 8.5l.94-2.06 2.06-.94-2.06-.94L8.5 2.5l-.94 2.06-2.06.94zm10 10l.94 2.06.94-2.06 2.06-.94-2.06-.94-.94-2.06-.94 2.06-2.06.94z\"/><path d=\"M17.41 7.96l-1.37-1.37c-.4-.4-.92-.59-1.43-.59-.52 0-1.04.2-1.43.59L10.3 9.45l-7.72 7.72c-.78.78-.78 2.05 0 2.83L4 21.41c.39.39.9.59 1.41.59.51 0 1.02-.2 1.41-.59l7.78-7.78 2.81-2.81c.8-.78.8-2.07 0-2.86zM5.41 20L4 18.59l7.72-7.72 1.47 1.35L5.41 20z\"/>\n",
              "  </svg>\n",
              "      </button>\n",
              "      \n",
              "  <style>\n",
              "    .colab-df-container {\n",
              "      display:flex;\n",
              "      flex-wrap:wrap;\n",
              "      gap: 12px;\n",
              "    }\n",
              "\n",
              "    .colab-df-convert {\n",
              "      background-color: #E8F0FE;\n",
              "      border: none;\n",
              "      border-radius: 50%;\n",
              "      cursor: pointer;\n",
              "      display: none;\n",
              "      fill: #1967D2;\n",
              "      height: 32px;\n",
              "      padding: 0 0 0 0;\n",
              "      width: 32px;\n",
              "    }\n",
              "\n",
              "    .colab-df-convert:hover {\n",
              "      background-color: #E2EBFA;\n",
              "      box-shadow: 0px 1px 2px rgba(60, 64, 67, 0.3), 0px 1px 3px 1px rgba(60, 64, 67, 0.15);\n",
              "      fill: #174EA6;\n",
              "    }\n",
              "\n",
              "    [theme=dark] .colab-df-convert {\n",
              "      background-color: #3B4455;\n",
              "      fill: #D2E3FC;\n",
              "    }\n",
              "\n",
              "    [theme=dark] .colab-df-convert:hover {\n",
              "      background-color: #434B5C;\n",
              "      box-shadow: 0px 1px 3px 1px rgba(0, 0, 0, 0.15);\n",
              "      filter: drop-shadow(0px 1px 2px rgba(0, 0, 0, 0.3));\n",
              "      fill: #FFFFFF;\n",
              "    }\n",
              "  </style>\n",
              "\n",
              "      <script>\n",
              "        const buttonEl =\n",
              "          document.querySelector('#df-a0532ab4-8fbd-4e1c-805b-bb12cbf9b204 button.colab-df-convert');\n",
              "        buttonEl.style.display =\n",
              "          google.colab.kernel.accessAllowed ? 'block' : 'none';\n",
              "\n",
              "        async function convertToInteractive(key) {\n",
              "          const element = document.querySelector('#df-a0532ab4-8fbd-4e1c-805b-bb12cbf9b204');\n",
              "          const dataTable =\n",
              "            await google.colab.kernel.invokeFunction('convertToInteractive',\n",
              "                                                     [key], {});\n",
              "          if (!dataTable) return;\n",
              "\n",
              "          const docLinkHtml = 'Like what you see? Visit the ' +\n",
              "            '<a target=\"_blank\" href=https://colab.research.google.com/notebooks/data_table.ipynb>data table notebook</a>'\n",
              "            + ' to learn more about interactive tables.';\n",
              "          element.innerHTML = '';\n",
              "          dataTable['output_type'] = 'display_data';\n",
              "          await google.colab.output.renderOutput(dataTable, element);\n",
              "          const docLink = document.createElement('div');\n",
              "          docLink.innerHTML = docLinkHtml;\n",
              "          element.appendChild(docLink);\n",
              "        }\n",
              "      </script>\n",
              "    </div>\n",
              "  </div>\n",
              "  "
            ],
            "text/plain": [
              "       step       customer  age  ...             category amount fraud\n",
              "25920    10  'C1668825144'  '6'  ...  'es_transportation'  39.04   0.0\n",
              "25921    10   'C179748485'  '2'  ...  'es_transportation'  39.41   0.0\n",
              "25922    10   'C767740583'  '2'  ...  'es_transportation'  49.01   0.0\n",
              "25923    10  'C1929968596'  '2'  ...  'es_transportation'  67.37   0.0\n",
              "25924    10  'C1530262146'  '2'  ...                  NaN    NaN   NaN\n",
              "\n",
              "[5 rows x 10 columns]"
            ]
          },
          "metadata": {},
          "execution_count": 160
        }
      ]
    },
    {
      "cell_type": "code",
      "source": [
        "# preview random 5 records\n",
        "data.sample(5)"
      ],
      "metadata": {
        "colab": {
          "base_uri": "https://localhost:8080/",
          "height": 206
        },
        "id": "BfH2Oi-mfqgj",
        "outputId": "d10b6053-96a0-4e31-cb24-5036ba32b5bc"
      },
      "execution_count": null,
      "outputs": [
        {
          "output_type": "execute_result",
          "data": {
            "text/html": [
              "\n",
              "  <div id=\"df-ad28142a-ec31-499e-9a05-db2270098715\">\n",
              "    <div class=\"colab-df-container\">\n",
              "      <div>\n",
              "<style scoped>\n",
              "    .dataframe tbody tr th:only-of-type {\n",
              "        vertical-align: middle;\n",
              "    }\n",
              "\n",
              "    .dataframe tbody tr th {\n",
              "        vertical-align: top;\n",
              "    }\n",
              "\n",
              "    .dataframe thead th {\n",
              "        text-align: right;\n",
              "    }\n",
              "</style>\n",
              "<table border=\"1\" class=\"dataframe\">\n",
              "  <thead>\n",
              "    <tr style=\"text-align: right;\">\n",
              "      <th></th>\n",
              "      <th>step</th>\n",
              "      <th>customer</th>\n",
              "      <th>age</th>\n",
              "      <th>gender</th>\n",
              "      <th>zipcodeOri</th>\n",
              "      <th>merchant</th>\n",
              "      <th>zipMerchant</th>\n",
              "      <th>category</th>\n",
              "      <th>amount</th>\n",
              "      <th>fraud</th>\n",
              "    </tr>\n",
              "  </thead>\n",
              "  <tbody>\n",
              "    <tr>\n",
              "      <th>20870</th>\n",
              "      <td>8</td>\n",
              "      <td>'C290140685'</td>\n",
              "      <td>'3'</td>\n",
              "      <td>'F'</td>\n",
              "      <td>'28007'</td>\n",
              "      <td>'M348934600'</td>\n",
              "      <td>'28007'</td>\n",
              "      <td>'es_transportation'</td>\n",
              "      <td>69.50</td>\n",
              "      <td>0.0</td>\n",
              "    </tr>\n",
              "    <tr>\n",
              "      <th>21025</th>\n",
              "      <td>8</td>\n",
              "      <td>'C1711634686'</td>\n",
              "      <td>'3'</td>\n",
              "      <td>'F'</td>\n",
              "      <td>'28007'</td>\n",
              "      <td>'M348934600'</td>\n",
              "      <td>'28007'</td>\n",
              "      <td>'es_transportation'</td>\n",
              "      <td>29.41</td>\n",
              "      <td>0.0</td>\n",
              "    </tr>\n",
              "    <tr>\n",
              "      <th>22932</th>\n",
              "      <td>9</td>\n",
              "      <td>'C1804573810'</td>\n",
              "      <td>'2'</td>\n",
              "      <td>'F'</td>\n",
              "      <td>'28007'</td>\n",
              "      <td>'M1823072687'</td>\n",
              "      <td>'28007'</td>\n",
              "      <td>'es_transportation'</td>\n",
              "      <td>15.46</td>\n",
              "      <td>0.0</td>\n",
              "    </tr>\n",
              "    <tr>\n",
              "      <th>18859</th>\n",
              "      <td>7</td>\n",
              "      <td>'C747175090'</td>\n",
              "      <td>'5'</td>\n",
              "      <td>'F'</td>\n",
              "      <td>'28007'</td>\n",
              "      <td>'M348934600'</td>\n",
              "      <td>'28007'</td>\n",
              "      <td>'es_transportation'</td>\n",
              "      <td>11.91</td>\n",
              "      <td>0.0</td>\n",
              "    </tr>\n",
              "    <tr>\n",
              "      <th>16050</th>\n",
              "      <td>6</td>\n",
              "      <td>'C1017469037'</td>\n",
              "      <td>'2'</td>\n",
              "      <td>'M'</td>\n",
              "      <td>'28007'</td>\n",
              "      <td>'M348934600'</td>\n",
              "      <td>'28007'</td>\n",
              "      <td>'es_transportation'</td>\n",
              "      <td>32.22</td>\n",
              "      <td>0.0</td>\n",
              "    </tr>\n",
              "  </tbody>\n",
              "</table>\n",
              "</div>\n",
              "      <button class=\"colab-df-convert\" onclick=\"convertToInteractive('df-ad28142a-ec31-499e-9a05-db2270098715')\"\n",
              "              title=\"Convert this dataframe to an interactive table.\"\n",
              "              style=\"display:none;\">\n",
              "        \n",
              "  <svg xmlns=\"http://www.w3.org/2000/svg\" height=\"24px\"viewBox=\"0 0 24 24\"\n",
              "       width=\"24px\">\n",
              "    <path d=\"M0 0h24v24H0V0z\" fill=\"none\"/>\n",
              "    <path d=\"M18.56 5.44l.94 2.06.94-2.06 2.06-.94-2.06-.94-.94-2.06-.94 2.06-2.06.94zm-11 1L8.5 8.5l.94-2.06 2.06-.94-2.06-.94L8.5 2.5l-.94 2.06-2.06.94zm10 10l.94 2.06.94-2.06 2.06-.94-2.06-.94-.94-2.06-.94 2.06-2.06.94z\"/><path d=\"M17.41 7.96l-1.37-1.37c-.4-.4-.92-.59-1.43-.59-.52 0-1.04.2-1.43.59L10.3 9.45l-7.72 7.72c-.78.78-.78 2.05 0 2.83L4 21.41c.39.39.9.59 1.41.59.51 0 1.02-.2 1.41-.59l7.78-7.78 2.81-2.81c.8-.78.8-2.07 0-2.86zM5.41 20L4 18.59l7.72-7.72 1.47 1.35L5.41 20z\"/>\n",
              "  </svg>\n",
              "      </button>\n",
              "      \n",
              "  <style>\n",
              "    .colab-df-container {\n",
              "      display:flex;\n",
              "      flex-wrap:wrap;\n",
              "      gap: 12px;\n",
              "    }\n",
              "\n",
              "    .colab-df-convert {\n",
              "      background-color: #E8F0FE;\n",
              "      border: none;\n",
              "      border-radius: 50%;\n",
              "      cursor: pointer;\n",
              "      display: none;\n",
              "      fill: #1967D2;\n",
              "      height: 32px;\n",
              "      padding: 0 0 0 0;\n",
              "      width: 32px;\n",
              "    }\n",
              "\n",
              "    .colab-df-convert:hover {\n",
              "      background-color: #E2EBFA;\n",
              "      box-shadow: 0px 1px 2px rgba(60, 64, 67, 0.3), 0px 1px 3px 1px rgba(60, 64, 67, 0.15);\n",
              "      fill: #174EA6;\n",
              "    }\n",
              "\n",
              "    [theme=dark] .colab-df-convert {\n",
              "      background-color: #3B4455;\n",
              "      fill: #D2E3FC;\n",
              "    }\n",
              "\n",
              "    [theme=dark] .colab-df-convert:hover {\n",
              "      background-color: #434B5C;\n",
              "      box-shadow: 0px 1px 3px 1px rgba(0, 0, 0, 0.15);\n",
              "      filter: drop-shadow(0px 1px 2px rgba(0, 0, 0, 0.3));\n",
              "      fill: #FFFFFF;\n",
              "    }\n",
              "  </style>\n",
              "\n",
              "      <script>\n",
              "        const buttonEl =\n",
              "          document.querySelector('#df-ad28142a-ec31-499e-9a05-db2270098715 button.colab-df-convert');\n",
              "        buttonEl.style.display =\n",
              "          google.colab.kernel.accessAllowed ? 'block' : 'none';\n",
              "\n",
              "        async function convertToInteractive(key) {\n",
              "          const element = document.querySelector('#df-ad28142a-ec31-499e-9a05-db2270098715');\n",
              "          const dataTable =\n",
              "            await google.colab.kernel.invokeFunction('convertToInteractive',\n",
              "                                                     [key], {});\n",
              "          if (!dataTable) return;\n",
              "\n",
              "          const docLinkHtml = 'Like what you see? Visit the ' +\n",
              "            '<a target=\"_blank\" href=https://colab.research.google.com/notebooks/data_table.ipynb>data table notebook</a>'\n",
              "            + ' to learn more about interactive tables.';\n",
              "          element.innerHTML = '';\n",
              "          dataTable['output_type'] = 'display_data';\n",
              "          await google.colab.output.renderOutput(dataTable, element);\n",
              "          const docLink = document.createElement('div');\n",
              "          docLink.innerHTML = docLinkHtml;\n",
              "          element.appendChild(docLink);\n",
              "        }\n",
              "      </script>\n",
              "    </div>\n",
              "  </div>\n",
              "  "
            ],
            "text/plain": [
              "       step       customer  age  ...             category amount fraud\n",
              "20870     8   'C290140685'  '3'  ...  'es_transportation'  69.50   0.0\n",
              "21025     8  'C1711634686'  '3'  ...  'es_transportation'  29.41   0.0\n",
              "22932     9  'C1804573810'  '2'  ...  'es_transportation'  15.46   0.0\n",
              "18859     7   'C747175090'  '5'  ...  'es_transportation'  11.91   0.0\n",
              "16050     6  'C1017469037'  '2'  ...  'es_transportation'  32.22   0.0\n",
              "\n",
              "[5 rows x 10 columns]"
            ]
          },
          "metadata": {},
          "execution_count": 161
        }
      ]
    },
    {
      "cell_type": "markdown",
      "source": [
        "Our dataset contains expected rows and column records"
      ],
      "metadata": {
        "id": "cw0fIemef385"
      }
    },
    {
      "cell_type": "code",
      "source": [
        "#check number of rows and columns\n",
        "print('Our dataset has {} rows and {} columns'.format(data.shape[0],data.shape[1]))"
      ],
      "metadata": {
        "colab": {
          "base_uri": "https://localhost:8080/"
        },
        "id": "j7Cuds3GfxKB",
        "outputId": "35dc8a24-c53f-461c-a88f-906a87a9f4d0"
      },
      "execution_count": null,
      "outputs": [
        {
          "output_type": "stream",
          "name": "stdout",
          "text": [
            "Our dataset has 25925 rows and 10 columns\n"
          ]
        }
      ]
    },
    {
      "cell_type": "code",
      "source": [
        "#check data information \n",
        "data.info()"
      ],
      "metadata": {
        "colab": {
          "base_uri": "https://localhost:8080/"
        },
        "id": "6USJVIsIgi4A",
        "outputId": "c4b72d4a-f466-47c5-a704-8066bf7005b6"
      },
      "execution_count": null,
      "outputs": [
        {
          "output_type": "stream",
          "name": "stdout",
          "text": [
            "<class 'pandas.core.frame.DataFrame'>\n",
            "RangeIndex: 25925 entries, 0 to 25924\n",
            "Data columns (total 10 columns):\n",
            " #   Column       Non-Null Count  Dtype  \n",
            "---  ------       --------------  -----  \n",
            " 0   step         25925 non-null  int64  \n",
            " 1   customer     25925 non-null  object \n",
            " 2   age          25925 non-null  object \n",
            " 3   gender       25925 non-null  object \n",
            " 4   zipcodeOri   25924 non-null  object \n",
            " 5   merchant     25924 non-null  object \n",
            " 6   zipMerchant  25924 non-null  object \n",
            " 7   category     25924 non-null  object \n",
            " 8   amount       25924 non-null  float64\n",
            " 9   fraud        25924 non-null  float64\n",
            "dtypes: float64(2), int64(1), object(7)\n",
            "memory usage: 2.0+ MB\n"
          ]
        }
      ]
    },
    {
      "cell_type": "markdown",
      "source": [
        " - Our dataset contain 115518 instances and 10 attributes. The first 9 variables will be our independent variables and the last (fraud) will be our dependent (target variable)\n",
        " - Our dataset contain integer, object and float datatypes\n",
        " - We will convert age column datatype from object to integer as it will be useful in exploratory data analysis\n",
        " "
      ],
      "metadata": {
        "id": "JHBuC-vVhMUp"
      }
    },
    {
      "cell_type": "markdown",
      "source": [
        "## Data Cleansing\n",
        "\n",
        "Here we will check and deal with:\n",
        " - Removing unnecessary characters in column values\n",
        " - Changing datatypes\n",
        " - Missing values\n",
        " - Duplicates\n",
        " - Outliers & anomalies"
      ],
      "metadata": {
        "id": "4QyWHVFNh5MV"
      }
    },
    {
      "cell_type": "markdown",
      "source": [
        "### Removing unnecessary characters in column values\n",
        "\n",
        "For uniformity we remove the apostrophes and any other unnecessary character in our dataset"
      ],
      "metadata": {
        "id": "9D-y_qBjiE3z"
      }
    },
    {
      "cell_type": "code",
      "source": [
        "data.replace('\\'','', regex=True, inplace=True) "
      ],
      "metadata": {
        "id": "g8SWXMe6iGmF"
      },
      "execution_count": null,
      "outputs": []
    },
    {
      "cell_type": "code",
      "source": [
        "# previewing our dataset\n",
        "data.head(3)\n"
      ],
      "metadata": {
        "colab": {
          "base_uri": "https://localhost:8080/",
          "height": 143
        },
        "id": "o-_6pogIi7pi",
        "outputId": "b0dbd2f6-5522-4056-e07b-4856c0966bd9"
      },
      "execution_count": null,
      "outputs": [
        {
          "output_type": "execute_result",
          "data": {
            "text/html": [
              "\n",
              "  <div id=\"df-2b9e9f3d-1ae6-4c5f-ae46-54d04984583c\">\n",
              "    <div class=\"colab-df-container\">\n",
              "      <div>\n",
              "<style scoped>\n",
              "    .dataframe tbody tr th:only-of-type {\n",
              "        vertical-align: middle;\n",
              "    }\n",
              "\n",
              "    .dataframe tbody tr th {\n",
              "        vertical-align: top;\n",
              "    }\n",
              "\n",
              "    .dataframe thead th {\n",
              "        text-align: right;\n",
              "    }\n",
              "</style>\n",
              "<table border=\"1\" class=\"dataframe\">\n",
              "  <thead>\n",
              "    <tr style=\"text-align: right;\">\n",
              "      <th></th>\n",
              "      <th>step</th>\n",
              "      <th>customer</th>\n",
              "      <th>age</th>\n",
              "      <th>gender</th>\n",
              "      <th>zipcodeOri</th>\n",
              "      <th>merchant</th>\n",
              "      <th>zipMerchant</th>\n",
              "      <th>category</th>\n",
              "      <th>amount</th>\n",
              "      <th>fraud</th>\n",
              "    </tr>\n",
              "  </thead>\n",
              "  <tbody>\n",
              "    <tr>\n",
              "      <th>0</th>\n",
              "      <td>0</td>\n",
              "      <td>C1093826151</td>\n",
              "      <td>4</td>\n",
              "      <td>M</td>\n",
              "      <td>28007</td>\n",
              "      <td>M348934600</td>\n",
              "      <td>28007</td>\n",
              "      <td>es_transportation</td>\n",
              "      <td>4.55</td>\n",
              "      <td>0.0</td>\n",
              "    </tr>\n",
              "    <tr>\n",
              "      <th>1</th>\n",
              "      <td>0</td>\n",
              "      <td>C352968107</td>\n",
              "      <td>2</td>\n",
              "      <td>M</td>\n",
              "      <td>28007</td>\n",
              "      <td>M348934600</td>\n",
              "      <td>28007</td>\n",
              "      <td>es_transportation</td>\n",
              "      <td>39.68</td>\n",
              "      <td>0.0</td>\n",
              "    </tr>\n",
              "    <tr>\n",
              "      <th>2</th>\n",
              "      <td>0</td>\n",
              "      <td>C2054744914</td>\n",
              "      <td>4</td>\n",
              "      <td>F</td>\n",
              "      <td>28007</td>\n",
              "      <td>M1823072687</td>\n",
              "      <td>28007</td>\n",
              "      <td>es_transportation</td>\n",
              "      <td>26.89</td>\n",
              "      <td>0.0</td>\n",
              "    </tr>\n",
              "  </tbody>\n",
              "</table>\n",
              "</div>\n",
              "      <button class=\"colab-df-convert\" onclick=\"convertToInteractive('df-2b9e9f3d-1ae6-4c5f-ae46-54d04984583c')\"\n",
              "              title=\"Convert this dataframe to an interactive table.\"\n",
              "              style=\"display:none;\">\n",
              "        \n",
              "  <svg xmlns=\"http://www.w3.org/2000/svg\" height=\"24px\"viewBox=\"0 0 24 24\"\n",
              "       width=\"24px\">\n",
              "    <path d=\"M0 0h24v24H0V0z\" fill=\"none\"/>\n",
              "    <path d=\"M18.56 5.44l.94 2.06.94-2.06 2.06-.94-2.06-.94-.94-2.06-.94 2.06-2.06.94zm-11 1L8.5 8.5l.94-2.06 2.06-.94-2.06-.94L8.5 2.5l-.94 2.06-2.06.94zm10 10l.94 2.06.94-2.06 2.06-.94-2.06-.94-.94-2.06-.94 2.06-2.06.94z\"/><path d=\"M17.41 7.96l-1.37-1.37c-.4-.4-.92-.59-1.43-.59-.52 0-1.04.2-1.43.59L10.3 9.45l-7.72 7.72c-.78.78-.78 2.05 0 2.83L4 21.41c.39.39.9.59 1.41.59.51 0 1.02-.2 1.41-.59l7.78-7.78 2.81-2.81c.8-.78.8-2.07 0-2.86zM5.41 20L4 18.59l7.72-7.72 1.47 1.35L5.41 20z\"/>\n",
              "  </svg>\n",
              "      </button>\n",
              "      \n",
              "  <style>\n",
              "    .colab-df-container {\n",
              "      display:flex;\n",
              "      flex-wrap:wrap;\n",
              "      gap: 12px;\n",
              "    }\n",
              "\n",
              "    .colab-df-convert {\n",
              "      background-color: #E8F0FE;\n",
              "      border: none;\n",
              "      border-radius: 50%;\n",
              "      cursor: pointer;\n",
              "      display: none;\n",
              "      fill: #1967D2;\n",
              "      height: 32px;\n",
              "      padding: 0 0 0 0;\n",
              "      width: 32px;\n",
              "    }\n",
              "\n",
              "    .colab-df-convert:hover {\n",
              "      background-color: #E2EBFA;\n",
              "      box-shadow: 0px 1px 2px rgba(60, 64, 67, 0.3), 0px 1px 3px 1px rgba(60, 64, 67, 0.15);\n",
              "      fill: #174EA6;\n",
              "    }\n",
              "\n",
              "    [theme=dark] .colab-df-convert {\n",
              "      background-color: #3B4455;\n",
              "      fill: #D2E3FC;\n",
              "    }\n",
              "\n",
              "    [theme=dark] .colab-df-convert:hover {\n",
              "      background-color: #434B5C;\n",
              "      box-shadow: 0px 1px 3px 1px rgba(0, 0, 0, 0.15);\n",
              "      filter: drop-shadow(0px 1px 2px rgba(0, 0, 0, 0.3));\n",
              "      fill: #FFFFFF;\n",
              "    }\n",
              "  </style>\n",
              "\n",
              "      <script>\n",
              "        const buttonEl =\n",
              "          document.querySelector('#df-2b9e9f3d-1ae6-4c5f-ae46-54d04984583c button.colab-df-convert');\n",
              "        buttonEl.style.display =\n",
              "          google.colab.kernel.accessAllowed ? 'block' : 'none';\n",
              "\n",
              "        async function convertToInteractive(key) {\n",
              "          const element = document.querySelector('#df-2b9e9f3d-1ae6-4c5f-ae46-54d04984583c');\n",
              "          const dataTable =\n",
              "            await google.colab.kernel.invokeFunction('convertToInteractive',\n",
              "                                                     [key], {});\n",
              "          if (!dataTable) return;\n",
              "\n",
              "          const docLinkHtml = 'Like what you see? Visit the ' +\n",
              "            '<a target=\"_blank\" href=https://colab.research.google.com/notebooks/data_table.ipynb>data table notebook</a>'\n",
              "            + ' to learn more about interactive tables.';\n",
              "          element.innerHTML = '';\n",
              "          dataTable['output_type'] = 'display_data';\n",
              "          await google.colab.output.renderOutput(dataTable, element);\n",
              "          const docLink = document.createElement('div');\n",
              "          docLink.innerHTML = docLinkHtml;\n",
              "          element.appendChild(docLink);\n",
              "        }\n",
              "      </script>\n",
              "    </div>\n",
              "  </div>\n",
              "  "
            ],
            "text/plain": [
              "   step     customer age gender  ... zipMerchant           category amount fraud\n",
              "0     0  C1093826151   4      M  ...       28007  es_transportation   4.55   0.0\n",
              "1     0   C352968107   2      M  ...       28007  es_transportation  39.68   0.0\n",
              "2     0  C2054744914   4      F  ...       28007  es_transportation  26.89   0.0\n",
              "\n",
              "[3 rows x 10 columns]"
            ]
          },
          "metadata": {},
          "execution_count": 165
        }
      ]
    },
    {
      "cell_type": "code",
      "source": [
        "data.dtypes"
      ],
      "metadata": {
        "colab": {
          "base_uri": "https://localhost:8080/"
        },
        "id": "As9OHNVEmJXy",
        "outputId": "531b1d33-97c2-4dd3-8c50-5ffea098157d"
      },
      "execution_count": null,
      "outputs": [
        {
          "output_type": "execute_result",
          "data": {
            "text/plain": [
              "step             int64\n",
              "customer        object\n",
              "age             object\n",
              "gender          object\n",
              "zipcodeOri      object\n",
              "merchant        object\n",
              "zipMerchant     object\n",
              "category        object\n",
              "amount         float64\n",
              "fraud          float64\n",
              "dtype: object"
            ]
          },
          "metadata": {},
          "execution_count": 166
        }
      ]
    },
    {
      "cell_type": "code",
      "source": [
        "# previewing our dataset\n",
        "data.head()"
      ],
      "metadata": {
        "colab": {
          "base_uri": "https://localhost:8080/",
          "height": 206
        },
        "id": "zatDBCf1mmNw",
        "outputId": "d6d0aa01-4592-4c1e-98b6-a30186d65659"
      },
      "execution_count": null,
      "outputs": [
        {
          "output_type": "execute_result",
          "data": {
            "text/html": [
              "\n",
              "  <div id=\"df-8ab95e88-7a07-4fd1-a6b4-625e7b2fadf6\">\n",
              "    <div class=\"colab-df-container\">\n",
              "      <div>\n",
              "<style scoped>\n",
              "    .dataframe tbody tr th:only-of-type {\n",
              "        vertical-align: middle;\n",
              "    }\n",
              "\n",
              "    .dataframe tbody tr th {\n",
              "        vertical-align: top;\n",
              "    }\n",
              "\n",
              "    .dataframe thead th {\n",
              "        text-align: right;\n",
              "    }\n",
              "</style>\n",
              "<table border=\"1\" class=\"dataframe\">\n",
              "  <thead>\n",
              "    <tr style=\"text-align: right;\">\n",
              "      <th></th>\n",
              "      <th>step</th>\n",
              "      <th>customer</th>\n",
              "      <th>age</th>\n",
              "      <th>gender</th>\n",
              "      <th>zipcodeOri</th>\n",
              "      <th>merchant</th>\n",
              "      <th>zipMerchant</th>\n",
              "      <th>category</th>\n",
              "      <th>amount</th>\n",
              "      <th>fraud</th>\n",
              "    </tr>\n",
              "  </thead>\n",
              "  <tbody>\n",
              "    <tr>\n",
              "      <th>0</th>\n",
              "      <td>0</td>\n",
              "      <td>C1093826151</td>\n",
              "      <td>4</td>\n",
              "      <td>M</td>\n",
              "      <td>28007</td>\n",
              "      <td>M348934600</td>\n",
              "      <td>28007</td>\n",
              "      <td>es_transportation</td>\n",
              "      <td>4.55</td>\n",
              "      <td>0.0</td>\n",
              "    </tr>\n",
              "    <tr>\n",
              "      <th>1</th>\n",
              "      <td>0</td>\n",
              "      <td>C352968107</td>\n",
              "      <td>2</td>\n",
              "      <td>M</td>\n",
              "      <td>28007</td>\n",
              "      <td>M348934600</td>\n",
              "      <td>28007</td>\n",
              "      <td>es_transportation</td>\n",
              "      <td>39.68</td>\n",
              "      <td>0.0</td>\n",
              "    </tr>\n",
              "    <tr>\n",
              "      <th>2</th>\n",
              "      <td>0</td>\n",
              "      <td>C2054744914</td>\n",
              "      <td>4</td>\n",
              "      <td>F</td>\n",
              "      <td>28007</td>\n",
              "      <td>M1823072687</td>\n",
              "      <td>28007</td>\n",
              "      <td>es_transportation</td>\n",
              "      <td>26.89</td>\n",
              "      <td>0.0</td>\n",
              "    </tr>\n",
              "    <tr>\n",
              "      <th>3</th>\n",
              "      <td>0</td>\n",
              "      <td>C1760612790</td>\n",
              "      <td>3</td>\n",
              "      <td>M</td>\n",
              "      <td>28007</td>\n",
              "      <td>M348934600</td>\n",
              "      <td>28007</td>\n",
              "      <td>es_transportation</td>\n",
              "      <td>17.25</td>\n",
              "      <td>0.0</td>\n",
              "    </tr>\n",
              "    <tr>\n",
              "      <th>4</th>\n",
              "      <td>0</td>\n",
              "      <td>C757503768</td>\n",
              "      <td>5</td>\n",
              "      <td>M</td>\n",
              "      <td>28007</td>\n",
              "      <td>M348934600</td>\n",
              "      <td>28007</td>\n",
              "      <td>es_transportation</td>\n",
              "      <td>35.72</td>\n",
              "      <td>0.0</td>\n",
              "    </tr>\n",
              "  </tbody>\n",
              "</table>\n",
              "</div>\n",
              "      <button class=\"colab-df-convert\" onclick=\"convertToInteractive('df-8ab95e88-7a07-4fd1-a6b4-625e7b2fadf6')\"\n",
              "              title=\"Convert this dataframe to an interactive table.\"\n",
              "              style=\"display:none;\">\n",
              "        \n",
              "  <svg xmlns=\"http://www.w3.org/2000/svg\" height=\"24px\"viewBox=\"0 0 24 24\"\n",
              "       width=\"24px\">\n",
              "    <path d=\"M0 0h24v24H0V0z\" fill=\"none\"/>\n",
              "    <path d=\"M18.56 5.44l.94 2.06.94-2.06 2.06-.94-2.06-.94-.94-2.06-.94 2.06-2.06.94zm-11 1L8.5 8.5l.94-2.06 2.06-.94-2.06-.94L8.5 2.5l-.94 2.06-2.06.94zm10 10l.94 2.06.94-2.06 2.06-.94-2.06-.94-.94-2.06-.94 2.06-2.06.94z\"/><path d=\"M17.41 7.96l-1.37-1.37c-.4-.4-.92-.59-1.43-.59-.52 0-1.04.2-1.43.59L10.3 9.45l-7.72 7.72c-.78.78-.78 2.05 0 2.83L4 21.41c.39.39.9.59 1.41.59.51 0 1.02-.2 1.41-.59l7.78-7.78 2.81-2.81c.8-.78.8-2.07 0-2.86zM5.41 20L4 18.59l7.72-7.72 1.47 1.35L5.41 20z\"/>\n",
              "  </svg>\n",
              "      </button>\n",
              "      \n",
              "  <style>\n",
              "    .colab-df-container {\n",
              "      display:flex;\n",
              "      flex-wrap:wrap;\n",
              "      gap: 12px;\n",
              "    }\n",
              "\n",
              "    .colab-df-convert {\n",
              "      background-color: #E8F0FE;\n",
              "      border: none;\n",
              "      border-radius: 50%;\n",
              "      cursor: pointer;\n",
              "      display: none;\n",
              "      fill: #1967D2;\n",
              "      height: 32px;\n",
              "      padding: 0 0 0 0;\n",
              "      width: 32px;\n",
              "    }\n",
              "\n",
              "    .colab-df-convert:hover {\n",
              "      background-color: #E2EBFA;\n",
              "      box-shadow: 0px 1px 2px rgba(60, 64, 67, 0.3), 0px 1px 3px 1px rgba(60, 64, 67, 0.15);\n",
              "      fill: #174EA6;\n",
              "    }\n",
              "\n",
              "    [theme=dark] .colab-df-convert {\n",
              "      background-color: #3B4455;\n",
              "      fill: #D2E3FC;\n",
              "    }\n",
              "\n",
              "    [theme=dark] .colab-df-convert:hover {\n",
              "      background-color: #434B5C;\n",
              "      box-shadow: 0px 1px 3px 1px rgba(0, 0, 0, 0.15);\n",
              "      filter: drop-shadow(0px 1px 2px rgba(0, 0, 0, 0.3));\n",
              "      fill: #FFFFFF;\n",
              "    }\n",
              "  </style>\n",
              "\n",
              "      <script>\n",
              "        const buttonEl =\n",
              "          document.querySelector('#df-8ab95e88-7a07-4fd1-a6b4-625e7b2fadf6 button.colab-df-convert');\n",
              "        buttonEl.style.display =\n",
              "          google.colab.kernel.accessAllowed ? 'block' : 'none';\n",
              "\n",
              "        async function convertToInteractive(key) {\n",
              "          const element = document.querySelector('#df-8ab95e88-7a07-4fd1-a6b4-625e7b2fadf6');\n",
              "          const dataTable =\n",
              "            await google.colab.kernel.invokeFunction('convertToInteractive',\n",
              "                                                     [key], {});\n",
              "          if (!dataTable) return;\n",
              "\n",
              "          const docLinkHtml = 'Like what you see? Visit the ' +\n",
              "            '<a target=\"_blank\" href=https://colab.research.google.com/notebooks/data_table.ipynb>data table notebook</a>'\n",
              "            + ' to learn more about interactive tables.';\n",
              "          element.innerHTML = '';\n",
              "          dataTable['output_type'] = 'display_data';\n",
              "          await google.colab.output.renderOutput(dataTable, element);\n",
              "          const docLink = document.createElement('div');\n",
              "          docLink.innerHTML = docLinkHtml;\n",
              "          element.appendChild(docLink);\n",
              "        }\n",
              "      </script>\n",
              "    </div>\n",
              "  </div>\n",
              "  "
            ],
            "text/plain": [
              "   step     customer age gender  ... zipMerchant           category amount fraud\n",
              "0     0  C1093826151   4      M  ...       28007  es_transportation   4.55   0.0\n",
              "1     0   C352968107   2      M  ...       28007  es_transportation  39.68   0.0\n",
              "2     0  C2054744914   4      F  ...       28007  es_transportation  26.89   0.0\n",
              "3     0  C1760612790   3      M  ...       28007  es_transportation  17.25   0.0\n",
              "4     0   C757503768   5      M  ...       28007  es_transportation  35.72   0.0\n",
              "\n",
              "[5 rows x 10 columns]"
            ]
          },
          "metadata": {},
          "execution_count": 167
        }
      ]
    },
    {
      "cell_type": "markdown",
      "source": [
        "### Missing Values"
      ],
      "metadata": {
        "id": "y3xfSyBaoUKC"
      }
    },
    {
      "cell_type": "code",
      "source": [
        "# Identifying the Missing values in our dataset\n",
        "data.isnull().sum()\n"
      ],
      "metadata": {
        "colab": {
          "base_uri": "https://localhost:8080/"
        },
        "id": "czKzWPL4hFbE",
        "outputId": "f7ccffa9-0eec-4af5-fa07-d1698005328c"
      },
      "execution_count": null,
      "outputs": [
        {
          "output_type": "execute_result",
          "data": {
            "text/plain": [
              "step           0\n",
              "customer       0\n",
              "age            0\n",
              "gender         0\n",
              "zipcodeOri     1\n",
              "merchant       1\n",
              "zipMerchant    1\n",
              "category       1\n",
              "amount         1\n",
              "fraud          1\n",
              "dtype: int64"
            ]
          },
          "metadata": {},
          "execution_count": 168
        }
      ]
    },
    {
      "cell_type": "markdown",
      "source": [
        "Our dataset has two missing values, one in amount and the other in fraud columns\n",
        "\n",
        "We will drop the null values, we won't lose any information"
      ],
      "metadata": {
        "id": "0pKFjcCsnpYx"
      }
    },
    {
      "cell_type": "code",
      "source": [
        "data=data.dropna()\n",
        "data.isnull().sum()"
      ],
      "metadata": {
        "colab": {
          "base_uri": "https://localhost:8080/"
        },
        "id": "m49i9IzrrjDW",
        "outputId": "0755bdad-7a63-4be2-fcc3-66972a81c365"
      },
      "execution_count": null,
      "outputs": [
        {
          "output_type": "execute_result",
          "data": {
            "text/plain": [
              "step           0\n",
              "customer       0\n",
              "age            0\n",
              "gender         0\n",
              "zipcodeOri     0\n",
              "merchant       0\n",
              "zipMerchant    0\n",
              "category       0\n",
              "amount         0\n",
              "fraud          0\n",
              "dtype: int64"
            ]
          },
          "metadata": {},
          "execution_count": 169
        }
      ]
    },
    {
      "cell_type": "markdown",
      "source": [
        "### Duplicates"
      ],
      "metadata": {
        "id": "6Qd41qPhoOIo"
      }
    },
    {
      "cell_type": "code",
      "source": [
        "# checking for Duplicates\n",
        "data.duplicated().sum()"
      ],
      "metadata": {
        "colab": {
          "base_uri": "https://localhost:8080/"
        },
        "id": "hhMV0Ojyn6pt",
        "outputId": "261efef9-efb0-413a-e1a9-799eb8745c9f"
      },
      "execution_count": null,
      "outputs": [
        {
          "output_type": "execute_result",
          "data": {
            "text/plain": [
              "0"
            ]
          },
          "metadata": {},
          "execution_count": 170
        }
      ]
    },
    {
      "cell_type": "markdown",
      "source": [
        "Our dataset has no dupliicates"
      ],
      "metadata": {
        "id": "fifRBxFvoFeo"
      }
    },
    {
      "cell_type": "markdown",
      "source": [
        "### Anomalies"
      ],
      "metadata": {
        "id": "HcMglmK5of25"
      }
    },
    {
      "cell_type": "code",
      "source": [
        "# checking for  anomalies\n",
        "print('step',data.step.unique())\n",
        "print('customer',data.customer.unique())\n",
        "print('age',data.age.unique())\n",
        "print('gender',data.gender.unique())\n",
        "print('merchant',data.merchant.unique())\n",
        "print('category',data.category.unique())\n",
        "print('amount',data.amount.unique())\n",
        "print('fraud',data.fraud.unique())"
      ],
      "metadata": {
        "colab": {
          "base_uri": "https://localhost:8080/"
        },
        "id": "Ku1IPjEKopC6",
        "outputId": "d912dda5-380e-4f25-9d3a-51d04dc73e90"
      },
      "execution_count": null,
      "outputs": [
        {
          "output_type": "stream",
          "name": "stdout",
          "text": [
            "step [ 0  1  2  3  4  5  6  7  8  9 10]\n",
            "customer ['C1093826151' 'C352968107' 'C2054744914' ... 'C86466018' 'C1097812196'\n",
            " 'C1728122351']\n",
            "age ['4' '2' '3' '5' '1' '6' 'U' '0']\n",
            "gender ['M' 'F' 'E' 'U']\n",
            "merchant ['M348934600' 'M1823072687' 'M50039827' 'M1888755466' 'M1053599405'\n",
            " 'M85975013' 'M480139044' 'M692898500' 'M348875670' 'M151143676'\n",
            " 'M840466850' 'M1741626453' 'M1535107174' 'M855959430' 'M349281107'\n",
            " 'M209847108' 'M2122776122' 'M1873032707' 'M2011752106' 'M857378720'\n",
            " 'M1198415165' 'M1748431652' 'M980657600' 'M1352454843' 'M117188757'\n",
            " 'M547558035' 'M17379832' 'M1649169323' 'M1946091778' 'M97925176'\n",
            " 'M923029380' 'M1353266412' 'M1842530320' 'M677738360' 'M1313686961'\n",
            " 'M732195782' 'M1600850729' 'M1872033263' 'M3697346' 'M495352832'\n",
            " 'M1400236507' 'M1294758098' 'M1913465890' 'M45060432' 'M78078399'\n",
            " 'M2080407379' 'M1788569036' 'M1416436880']\n",
            "category ['es_transportation' 'es_health' 'es_otherservices' 'es_food'\n",
            " 'es_hotelservices' 'es_barsandrestaurants' 'es_tech' 'es_sportsandtoys'\n",
            " 'es_wellnessandbeauty' 'es_hyper' 'es_fashion' 'es_home' 'es_contents'\n",
            " 'es_travel' 'es_leisure']\n",
            "amount [  4.55  39.68  26.89 ...  71.23 273.11  49.01]\n",
            "fraud [0. 1.]\n"
          ]
        }
      ]
    },
    {
      "cell_type": "markdown",
      "source": [
        "Our dataset has no anomalies. 'U' in age and gender columns represent the unknown values and so we will not drop them"
      ],
      "metadata": {
        "id": "MYXBhmzms4el"
      }
    },
    {
      "cell_type": "code",
      "source": [
        "age = data[data['age'] == 'U'].index\n",
        "# Delete these row indexes from dataFrame\n",
        "data.drop(age , inplace=True)"
      ],
      "metadata": {
        "id": "nWJF6pn_Es-i"
      },
      "execution_count": null,
      "outputs": []
    },
    {
      "cell_type": "code",
      "source": [
        "gender = data[data['gender'] == 'U'].index\n",
        "# Delete these row indexes from dataFrame\n",
        "data.drop(gender , inplace=True)"
      ],
      "metadata": {
        "id": "5TGFyLYsKIkY"
      },
      "execution_count": null,
      "outputs": []
    },
    {
      "cell_type": "code",
      "source": [
        "print(data['age'].unique())\n",
        "print(data['gender'].unique())"
      ],
      "metadata": {
        "colab": {
          "base_uri": "https://localhost:8080/"
        },
        "id": "VW769OLAHxMv",
        "outputId": "d476529b-e337-4748-f069-96d9bbfe8875"
      },
      "execution_count": null,
      "outputs": [
        {
          "output_type": "stream",
          "name": "stdout",
          "text": [
            "['4' '2' '3' '5' '1' '6' '0']\n",
            "['M' 'F']\n"
          ]
        }
      ]
    },
    {
      "cell_type": "markdown",
      "source": [
        "### Outliers\n",
        "\n",
        "Here, we will visualize our dataset numerical features and check & deal with outliers"
      ],
      "metadata": {
        "id": "PJKE7Aw7tYXr"
      }
    },
    {
      "cell_type": "code",
      "source": [
        "# saving visualization\n",
        "#changes the layout first before saving the plot\n",
        "def vizSave(fname):\n",
        "  return plt.tight_layout()\n",
        "  return plt.savefig(fname)\n",
        "  return plt.show()"
      ],
      "metadata": {
        "id": "kKYSJvrJ8oLC"
      },
      "execution_count": null,
      "outputs": []
    },
    {
      "cell_type": "code",
      "source": [
        "# Boxplot to idnetify outliers in step and amount columns\n",
        "fig, axes = plt.subplots(1, 2, figsize=(15, 5), sharey=True)\n",
        "fig.suptitle('step & amount outliers',weight='bold')\n",
        "sns.boxplot(ax=axes[0],x=data['step'])\n",
        "sns.boxplot(ax=axes[1],x=data['amount'])\n",
        "sns.set_context('talk')\n",
        "\n",
        "\n",
        "# saving visualization\n",
        "vizSave(\"Outliers.png\")"
      ],
      "metadata": {
        "colab": {
          "base_uri": "https://localhost:8080/",
          "height": 325
        },
        "id": "PuPedLB1o1Wr",
        "outputId": "e3b14e33-f447-4c1b-c552-366d9f5c12e5"
      },
      "execution_count": null,
      "outputs": [
        {
          "output_type": "display_data",
          "data": {
            "image/png": "[encoded data removed]",
            "text/plain": [
              "<Figure size 1080x360 with 2 Axes>"
            ]
          },
          "metadata": {
            "needs_background": "light"
          }
        }
      ]
    },
    {
      "cell_type": "markdown",
      "source": [
        "-The step column has no outliers\n",
        "\n",
        "-Amount column contain numerous outliers. However, these outliers might be true observations since transactions vary depending on various factors such as standards of living and therefore we will not drop them"
      ],
      "metadata": {
        "id": "L9036hMO6vo9"
      }
    },
    {
      "cell_type": "markdown",
      "source": [
        "## Data preprocessing\n",
        "\n",
        "Preparing our data further for EDA"
      ],
      "metadata": {
        "id": "kDmOc_tnwXUw"
      }
    },
    {
      "cell_type": "markdown",
      "source": [
        "### Transform categorical features into numerical values"
      ],
      "metadata": {
        "id": "5_xJqpeZwaKF"
      }
    },
    {
      "cell_type": "code",
      "source": [
        "# turning object columns type to categorical for easing the transformation process\n",
        "col_categorical = data.select_dtypes(include= ['object']).columns\n",
        "for col in col_categorical:\n",
        "    data[col] = data[col].astype('category')\n",
        "# categorical values ==> numeric values\n",
        "data[col_categorical] = data[col_categorical].apply(lambda x: x.cat.codes)\n",
        "data.head(3)"
      ],
      "metadata": {
        "colab": {
          "base_uri": "https://localhost:8080/",
          "height": 143
        },
        "id": "YA4VGmC2wlUF",
        "outputId": "e202ccbf-b8cc-48f5-b97f-e6b64361797f"
      },
      "execution_count": null,
      "outputs": [
        {
          "output_type": "execute_result",
          "data": {
            "text/html": [
              "\n",
              "  <div id=\"df-9d9fc7b3-1a28-4686-8135-4174dce26f2a\">\n",
              "    <div class=\"colab-df-container\">\n",
              "      <div>\n",
              "<style scoped>\n",
              "    .dataframe tbody tr th:only-of-type {\n",
              "        vertical-align: middle;\n",
              "    }\n",
              "\n",
              "    .dataframe tbody tr th {\n",
              "        vertical-align: top;\n",
              "    }\n",
              "\n",
              "    .dataframe thead th {\n",
              "        text-align: right;\n",
              "    }\n",
              "</style>\n",
              "<table border=\"1\" class=\"dataframe\">\n",
              "  <thead>\n",
              "    <tr style=\"text-align: right;\">\n",
              "      <th></th>\n",
              "      <th>step</th>\n",
              "      <th>customer</th>\n",
              "      <th>age</th>\n",
              "      <th>gender</th>\n",
              "      <th>zipcodeOri</th>\n",
              "      <th>merchant</th>\n",
              "      <th>zipMerchant</th>\n",
              "      <th>category</th>\n",
              "      <th>amount</th>\n",
              "      <th>fraud</th>\n",
              "    </tr>\n",
              "  </thead>\n",
              "  <tbody>\n",
              "    <tr>\n",
              "      <th>0</th>\n",
              "      <td>0</td>\n",
              "      <td>178</td>\n",
              "      <td>4</td>\n",
              "      <td>1</td>\n",
              "      <td>0</td>\n",
              "      <td>29</td>\n",
              "      <td>0</td>\n",
              "      <td>12</td>\n",
              "      <td>4.55</td>\n",
              "      <td>0.0</td>\n",
              "    </tr>\n",
              "    <tr>\n",
              "      <th>1</th>\n",
              "      <td>0</td>\n",
              "      <td>2317</td>\n",
              "      <td>2</td>\n",
              "      <td>1</td>\n",
              "      <td>0</td>\n",
              "      <td>29</td>\n",
              "      <td>0</td>\n",
              "      <td>12</td>\n",
              "      <td>39.68</td>\n",
              "      <td>0.0</td>\n",
              "    </tr>\n",
              "    <tr>\n",
              "      <th>2</th>\n",
              "      <td>0</td>\n",
              "      <td>1918</td>\n",
              "      <td>4</td>\n",
              "      <td>0</td>\n",
              "      <td>0</td>\n",
              "      <td>17</td>\n",
              "      <td>0</td>\n",
              "      <td>12</td>\n",
              "      <td>26.89</td>\n",
              "      <td>0.0</td>\n",
              "    </tr>\n",
              "  </tbody>\n",
              "</table>\n",
              "</div>\n",
              "      <button class=\"colab-df-convert\" onclick=\"convertToInteractive('df-9d9fc7b3-1a28-4686-8135-4174dce26f2a')\"\n",
              "              title=\"Convert this dataframe to an interactive table.\"\n",
              "              style=\"display:none;\">\n",
              "        \n",
              "  <svg xmlns=\"http://www.w3.org/2000/svg\" height=\"24px\"viewBox=\"0 0 24 24\"\n",
              "       width=\"24px\">\n",
              "    <path d=\"M0 0h24v24H0V0z\" fill=\"none\"/>\n",
              "    <path d=\"M18.56 5.44l.94 2.06.94-2.06 2.06-.94-2.06-.94-.94-2.06-.94 2.06-2.06.94zm-11 1L8.5 8.5l.94-2.06 2.06-.94-2.06-.94L8.5 2.5l-.94 2.06-2.06.94zm10 10l.94 2.06.94-2.06 2.06-.94-2.06-.94-.94-2.06-.94 2.06-2.06.94z\"/><path d=\"M17.41 7.96l-1.37-1.37c-.4-.4-.92-.59-1.43-.59-.52 0-1.04.2-1.43.59L10.3 9.45l-7.72 7.72c-.78.78-.78 2.05 0 2.83L4 21.41c.39.39.9.59 1.41.59.51 0 1.02-.2 1.41-.59l7.78-7.78 2.81-2.81c.8-.78.8-2.07 0-2.86zM5.41 20L4 18.59l7.72-7.72 1.47 1.35L5.41 20z\"/>\n",
              "  </svg>\n",
              "      </button>\n",
              "      \n",
              "  <style>\n",
              "    .colab-df-container {\n",
              "      display:flex;\n",
              "      flex-wrap:wrap;\n",
              "      gap: 12px;\n",
              "    }\n",
              "\n",
              "    .colab-df-convert {\n",
              "      background-color: #E8F0FE;\n",
              "      border: none;\n",
              "      border-radius: 50%;\n",
              "      cursor: pointer;\n",
              "      display: none;\n",
              "      fill: #1967D2;\n",
              "      height: 32px;\n",
              "      padding: 0 0 0 0;\n",
              "      width: 32px;\n",
              "    }\n",
              "\n",
              "    .colab-df-convert:hover {\n",
              "      background-color: #E2EBFA;\n",
              "      box-shadow: 0px 1px 2px rgba(60, 64, 67, 0.3), 0px 1px 3px 1px rgba(60, 64, 67, 0.15);\n",
              "      fill: #174EA6;\n",
              "    }\n",
              "\n",
              "    [theme=dark] .colab-df-convert {\n",
              "      background-color: #3B4455;\n",
              "      fill: #D2E3FC;\n",
              "    }\n",
              "\n",
              "    [theme=dark] .colab-df-convert:hover {\n",
              "      background-color: #434B5C;\n",
              "      box-shadow: 0px 1px 3px 1px rgba(0, 0, 0, 0.15);\n",
              "      filter: drop-shadow(0px 1px 2px rgba(0, 0, 0, 0.3));\n",
              "      fill: #FFFFFF;\n",
              "    }\n",
              "  </style>\n",
              "\n",
              "      <script>\n",
              "        const buttonEl =\n",
              "          document.querySelector('#df-9d9fc7b3-1a28-4686-8135-4174dce26f2a button.colab-df-convert');\n",
              "        buttonEl.style.display =\n",
              "          google.colab.kernel.accessAllowed ? 'block' : 'none';\n",
              "\n",
              "        async function convertToInteractive(key) {\n",
              "          const element = document.querySelector('#df-9d9fc7b3-1a28-4686-8135-4174dce26f2a');\n",
              "          const dataTable =\n",
              "            await google.colab.kernel.invokeFunction('convertToInteractive',\n",
              "                                                     [key], {});\n",
              "          if (!dataTable) return;\n",
              "\n",
              "          const docLinkHtml = 'Like what you see? Visit the ' +\n",
              "            '<a target=\"_blank\" href=https://colab.research.google.com/notebooks/data_table.ipynb>data table notebook</a>'\n",
              "            + ' to learn more about interactive tables.';\n",
              "          element.innerHTML = '';\n",
              "          dataTable['output_type'] = 'display_data';\n",
              "          await google.colab.output.renderOutput(dataTable, element);\n",
              "          const docLink = document.createElement('div');\n",
              "          docLink.innerHTML = docLinkHtml;\n",
              "          element.appendChild(docLink);\n",
              "        }\n",
              "      </script>\n",
              "    </div>\n",
              "  </div>\n",
              "  "
            ],
            "text/plain": [
              "   step  customer  age  gender  ...  zipMerchant  category  amount  fraud\n",
              "0     0       178    4       1  ...            0        12    4.55    0.0\n",
              "1     0      2317    2       1  ...            0        12   39.68    0.0\n",
              "2     0      1918    4       0  ...            0        12   26.89    0.0\n",
              "\n",
              "[3 rows x 10 columns]"
            ]
          },
          "metadata": {},
          "execution_count": 177
        }
      ]
    },
    {
      "cell_type": "markdown",
      "source": [
        "### Changing datatypes"
      ],
      "metadata": {
        "id": "j2HMc1iNynJ2"
      }
    },
    {
      "cell_type": "code",
      "source": [
        "data.dtypes"
      ],
      "metadata": {
        "colab": {
          "base_uri": "https://localhost:8080/"
        },
        "id": "TeLx66cnyELQ",
        "outputId": "6ab99317-7cd3-47fa-ecb6-ca23e05934bf"
      },
      "execution_count": null,
      "outputs": [
        {
          "output_type": "execute_result",
          "data": {
            "text/plain": [
              "step             int64\n",
              "customer         int16\n",
              "age               int8\n",
              "gender            int8\n",
              "zipcodeOri        int8\n",
              "merchant          int8\n",
              "zipMerchant       int8\n",
              "category          int8\n",
              "amount         float64\n",
              "fraud          float64\n",
              "dtype: object"
            ]
          },
          "metadata": {},
          "execution_count": 180
        }
      ]
    },
    {
      "cell_type": "code",
      "source": [
        "# convert our dataset to contain the correct datatypes\n",
        "data=data.convert_dtypes()\n",
        "# print new datatypes\n",
        "print(data.dtypes)"
      ],
      "metadata": {
        "colab": {
          "base_uri": "https://localhost:8080/"
        },
        "id": "nqr4kg5tyknG",
        "outputId": "a5333db1-ac94-499b-f7e7-80c9a3b6b327"
      },
      "execution_count": null,
      "outputs": [
        {
          "output_type": "stream",
          "name": "stdout",
          "text": [
            "step             Int64\n",
            "customer         Int16\n",
            "age               Int8\n",
            "gender            Int8\n",
            "zipcodeOri        Int8\n",
            "merchant          Int8\n",
            "zipMerchant       Int8\n",
            "category          Int8\n",
            "amount         float64\n",
            "fraud            Int64\n",
            "dtype: object\n"
          ]
        }
      ]
    },
    {
      "cell_type": "markdown",
      "source": [
        "### Dropping unnecessary columns\n",
        "There are only one unique zipCode values (28007) so we will drop them."
      ],
      "metadata": {
        "id": "YXY13grFwvXS"
      }
    },
    {
      "cell_type": "code",
      "source": [
        "print(\"Unique zipCodeOri values: \",data.zipcodeOri.nunique())\n",
        "print(\"Unique zipMerchant values: \",data.zipMerchant.nunique())\n",
        "# dropping zipcodeori and zipMerchant since they have only one unique value\n",
        "data = data.drop(['zipcodeOri','zipMerchant'],axis=1)"
      ],
      "metadata": {
        "colab": {
          "base_uri": "https://localhost:8080/"
        },
        "id": "o_UCtequw56f",
        "outputId": "61c08235-ddfb-4d09-8b7c-d3641f7b84d7"
      },
      "execution_count": null,
      "outputs": [
        {
          "output_type": "stream",
          "name": "stdout",
          "text": [
            "Unique zipCodeOri values:  1\n",
            "Unique zipMerchant values:  1\n"
          ]
        }
      ]
    },
    {
      "cell_type": "code",
      "source": [
        "# Previewing our dataset\n",
        "data.head(3)"
      ],
      "metadata": {
        "colab": {
          "base_uri": "https://localhost:8080/",
          "height": 143
        },
        "id": "cLgorZakzYH7",
        "outputId": "b3ab4171-ab77-477e-8685-115129c0fec0"
      },
      "execution_count": null,
      "outputs": [
        {
          "output_type": "execute_result",
          "data": {
            "text/html": [
              "\n",
              "  <div id=\"df-5edd5e5f-3a30-4d7f-8daf-bb7da57cb015\">\n",
              "    <div class=\"colab-df-container\">\n",
              "      <div>\n",
              "<style scoped>\n",
              "    .dataframe tbody tr th:only-of-type {\n",
              "        vertical-align: middle;\n",
              "    }\n",
              "\n",
              "    .dataframe tbody tr th {\n",
              "        vertical-align: top;\n",
              "    }\n",
              "\n",
              "    .dataframe thead th {\n",
              "        text-align: right;\n",
              "    }\n",
              "</style>\n",
              "<table border=\"1\" class=\"dataframe\">\n",
              "  <thead>\n",
              "    <tr style=\"text-align: right;\">\n",
              "      <th></th>\n",
              "      <th>step</th>\n",
              "      <th>customer</th>\n",
              "      <th>age</th>\n",
              "      <th>gender</th>\n",
              "      <th>merchant</th>\n",
              "      <th>category</th>\n",
              "      <th>amount</th>\n",
              "      <th>fraud</th>\n",
              "    </tr>\n",
              "  </thead>\n",
              "  <tbody>\n",
              "    <tr>\n",
              "      <th>0</th>\n",
              "      <td>0</td>\n",
              "      <td>178</td>\n",
              "      <td>4</td>\n",
              "      <td>1</td>\n",
              "      <td>29</td>\n",
              "      <td>12</td>\n",
              "      <td>4.55</td>\n",
              "      <td>0</td>\n",
              "    </tr>\n",
              "    <tr>\n",
              "      <th>1</th>\n",
              "      <td>0</td>\n",
              "      <td>2317</td>\n",
              "      <td>2</td>\n",
              "      <td>1</td>\n",
              "      <td>29</td>\n",
              "      <td>12</td>\n",
              "      <td>39.68</td>\n",
              "      <td>0</td>\n",
              "    </tr>\n",
              "    <tr>\n",
              "      <th>2</th>\n",
              "      <td>0</td>\n",
              "      <td>1918</td>\n",
              "      <td>4</td>\n",
              "      <td>0</td>\n",
              "      <td>17</td>\n",
              "      <td>12</td>\n",
              "      <td>26.89</td>\n",
              "      <td>0</td>\n",
              "    </tr>\n",
              "  </tbody>\n",
              "</table>\n",
              "</div>\n",
              "      <button class=\"colab-df-convert\" onclick=\"convertToInteractive('df-5edd5e5f-3a30-4d7f-8daf-bb7da57cb015')\"\n",
              "              title=\"Convert this dataframe to an interactive table.\"\n",
              "              style=\"display:none;\">\n",
              "        \n",
              "  <svg xmlns=\"http://www.w3.org/2000/svg\" height=\"24px\"viewBox=\"0 0 24 24\"\n",
              "       width=\"24px\">\n",
              "    <path d=\"M0 0h24v24H0V0z\" fill=\"none\"/>\n",
              "    <path d=\"M18.56 5.44l.94 2.06.94-2.06 2.06-.94-2.06-.94-.94-2.06-.94 2.06-2.06.94zm-11 1L8.5 8.5l.94-2.06 2.06-.94-2.06-.94L8.5 2.5l-.94 2.06-2.06.94zm10 10l.94 2.06.94-2.06 2.06-.94-2.06-.94-.94-2.06-.94 2.06-2.06.94z\"/><path d=\"M17.41 7.96l-1.37-1.37c-.4-.4-.92-.59-1.43-.59-.52 0-1.04.2-1.43.59L10.3 9.45l-7.72 7.72c-.78.78-.78 2.05 0 2.83L4 21.41c.39.39.9.59 1.41.59.51 0 1.02-.2 1.41-.59l7.78-7.78 2.81-2.81c.8-.78.8-2.07 0-2.86zM5.41 20L4 18.59l7.72-7.72 1.47 1.35L5.41 20z\"/>\n",
              "  </svg>\n",
              "      </button>\n",
              "      \n",
              "  <style>\n",
              "    .colab-df-container {\n",
              "      display:flex;\n",
              "      flex-wrap:wrap;\n",
              "      gap: 12px;\n",
              "    }\n",
              "\n",
              "    .colab-df-convert {\n",
              "      background-color: #E8F0FE;\n",
              "      border: none;\n",
              "      border-radius: 50%;\n",
              "      cursor: pointer;\n",
              "      display: none;\n",
              "      fill: #1967D2;\n",
              "      height: 32px;\n",
              "      padding: 0 0 0 0;\n",
              "      width: 32px;\n",
              "    }\n",
              "\n",
              "    .colab-df-convert:hover {\n",
              "      background-color: #E2EBFA;\n",
              "      box-shadow: 0px 1px 2px rgba(60, 64, 67, 0.3), 0px 1px 3px 1px rgba(60, 64, 67, 0.15);\n",
              "      fill: #174EA6;\n",
              "    }\n",
              "\n",
              "    [theme=dark] .colab-df-convert {\n",
              "      background-color: #3B4455;\n",
              "      fill: #D2E3FC;\n",
              "    }\n",
              "\n",
              "    [theme=dark] .colab-df-convert:hover {\n",
              "      background-color: #434B5C;\n",
              "      box-shadow: 0px 1px 3px 1px rgba(0, 0, 0, 0.15);\n",
              "      filter: drop-shadow(0px 1px 2px rgba(0, 0, 0, 0.3));\n",
              "      fill: #FFFFFF;\n",
              "    }\n",
              "  </style>\n",
              "\n",
              "      <script>\n",
              "        const buttonEl =\n",
              "          document.querySelector('#df-5edd5e5f-3a30-4d7f-8daf-bb7da57cb015 button.colab-df-convert');\n",
              "        buttonEl.style.display =\n",
              "          google.colab.kernel.accessAllowed ? 'block' : 'none';\n",
              "\n",
              "        async function convertToInteractive(key) {\n",
              "          const element = document.querySelector('#df-5edd5e5f-3a30-4d7f-8daf-bb7da57cb015');\n",
              "          const dataTable =\n",
              "            await google.colab.kernel.invokeFunction('convertToInteractive',\n",
              "                                                     [key], {});\n",
              "          if (!dataTable) return;\n",
              "\n",
              "          const docLinkHtml = 'Like what you see? Visit the ' +\n",
              "            '<a target=\"_blank\" href=https://colab.research.google.com/notebooks/data_table.ipynb>data table notebook</a>'\n",
              "            + ' to learn more about interactive tables.';\n",
              "          element.innerHTML = '';\n",
              "          dataTable['output_type'] = 'display_data';\n",
              "          await google.colab.output.renderOutput(dataTable, element);\n",
              "          const docLink = document.createElement('div');\n",
              "          docLink.innerHTML = docLinkHtml;\n",
              "          element.appendChild(docLink);\n",
              "        }\n",
              "      </script>\n",
              "    </div>\n",
              "  </div>\n",
              "  "
            ],
            "text/plain": [
              "   step  customer  age  gender  merchant  category  amount  fraud\n",
              "0     0       178    4       1        29        12    4.55      0\n",
              "1     0      2317    2       1        29        12   39.68      0\n",
              "2     0      1918    4       0        17        12   26.89      0"
            ]
          },
          "metadata": {},
          "execution_count": 183
        }
      ]
    },
    {
      "cell_type": "markdown",
      "source": [
        "# Exploratory Data Analysis"
      ],
      "metadata": {
        "id": "5eEvVm1M9LVl"
      }
    },
    {
      "cell_type": "markdown",
      "source": [
        "**Fraud data** is imbalanced like you see in the plot below and from the count of instances. To balance the dataset one can perform oversample or undersample techniques."
      ],
      "metadata": {
        "id": "dPjDooKhvtY-"
      }
    },
    {
      "cell_type": "code",
      "source": [
        "#countplot showing count of fraudulent payments\n",
        "# Create two dataframes with fraud and non-fraud data \n",
        "fraud = data.loc[data.fraud == 1] \n",
        "non_fraud = data.loc[data.fraud == 0]\n",
        "\n",
        "sns.countplot(x='fraud',data=data)\n",
        "plt.title('Count of Fraudulent Payments',weight='bold')\n",
        "plt.show()\n",
        "print('Number of normal examples: ',non_fraud.fraud.count()/len(data['fraud'])*100)\n",
        "print('Number of fradulent examples: ',fraud.fraud.count()/len(data['fraud'])*100)\n"
      ],
      "metadata": {
        "id": "GFaex5YL9glX",
        "colab": {
          "base_uri": "https://localhost:8080/",
          "height": 356
        },
        "outputId": "a2944624-3ea3-4bab-fcfa-9e636be84ef1"
      },
      "execution_count": null,
      "outputs": [
        {
          "output_type": "display_data",
          "data": {
            "image/png": "[encoded data removed]",
            "text/plain": [
              "<Figure size 432x288 with 1 Axes>"
            ]
          },
          "metadata": {
            "needs_background": "light"
          }
        },
        {
          "output_type": "stream",
          "name": "stdout",
          "text": [
            "Number of normal examples:  98.39901001585521\n",
            "Number of fradulent examples:  1.6009899841447854\n"
          ]
        }
      ]
    },
    {
      "cell_type": "code",
      "source": [
        "#Distribution of fraud transactions per age group\n",
        "data.loc[data.fraud == 1,'age'].value_counts().plot(kind='bar')\n",
        "plt.title('Distribution of Fraud count per age-group', weight='bold')\n",
        "plt.xlabel('Age_group')\n",
        "plt.ylabel('No. of Frauds')\n"
      ],
      "metadata": {
        "colab": {
          "base_uri": "https://localhost:8080/",
          "height": 330
        },
        "id": "aMl6ENWtZxub",
        "outputId": "ffa2c86a-b1a0-409e-e772-359a4711314d"
      },
      "execution_count": null,
      "outputs": [
        {
          "output_type": "execute_result",
          "data": {
            "text/plain": [
              "Text(0, 0.5, 'No. of Frauds')"
            ]
          },
          "metadata": {},
          "execution_count": 185
        },
        {
          "output_type": "display_data",
          "data": {
            "image/png": "[encoded data removed]",
            "text/plain": [
              "<Figure size 432x288 with 1 Axes>"
            ]
          },
          "metadata": {
            "needs_background": "light"
          }
        }
      ]
    },
    {
      "cell_type": "markdown",
      "source": [
        "The highest cases of fraud lie in category '3' (age 36-45)"
      ],
      "metadata": {
        "id": "CSnQyASYj_f4"
      }
    },
    {
      "cell_type": "code",
      "source": [
        "#Age vs amount\n",
        "sns.barplot(x='age',y='amount',data=data)\n",
        "plt.title('Age vs Amount',weight='bold')"
      ],
      "metadata": {
        "colab": {
          "base_uri": "https://localhost:8080/",
          "height": 338
        },
        "id": "bLlakm2MtRdI",
        "outputId": "d0aca6e9-fb6e-4ae0-91c7-f607ab8d8a95"
      },
      "execution_count": null,
      "outputs": [
        {
          "output_type": "execute_result",
          "data": {
            "text/plain": [
              "Text(0.5, 1.0, 'Age vs Amount')"
            ]
          },
          "metadata": {},
          "execution_count": 186
        },
        {
          "output_type": "display_data",
          "data": {
            "image/png": "[encoded data removed]",
            "text/plain": [
              "<Figure size 432x288 with 1 Axes>"
            ]
          },
          "metadata": {
            "needs_background": "light"
          }
        }
      ]
    },
    {
      "cell_type": "markdown",
      "source": [
        "Larger amount of transactions are done by individuals under 18 years (group 0)"
      ],
      "metadata": {
        "id": "GofqNmNWHe0q"
      }
    },
    {
      "cell_type": "code",
      "source": [
        "#Distribution of age vs fraud\n",
        "#fraud=0-(no)\n",
        "#fraud=1 - (yes)\n",
        "sns.catplot(x='age', hue='fraud', data=data, kind='count',aspect=1.5)\n",
        "plt.title('Distribution of age_groups vs fraud',weight='bold')"
      ],
      "metadata": {
        "colab": {
          "base_uri": "https://localhost:8080/",
          "height": 389
        },
        "id": "hTrLMl7QlTPJ",
        "outputId": "0832472a-3ab4-4a42-c967-b0cd4fd61a49"
      },
      "execution_count": null,
      "outputs": [
        {
          "output_type": "execute_result",
          "data": {
            "text/plain": [
              "Text(0.5, 1.0, 'Distribution of age_groups vs fraud')"
            ]
          },
          "metadata": {},
          "execution_count": 187
        },
        {
          "output_type": "display_data",
          "data": {
            "image/png": "[encoded data removed]",
            "text/plain": [
              "<Figure size 609.9x360 with 1 Axes>"
            ]
          },
          "metadata": {
            "needs_background": "light"
          }
        }
      ]
    },
    {
      "cell_type": "markdown",
      "source": [
        "fraud is  common across the all age groups. Age category '2' (26-35) is more involved."
      ],
      "metadata": {
        "id": "0PlVhyaLIGrC"
      }
    },
    {
      "cell_type": "code",
      "source": [
        "#Distribution of gender\n",
        "data.loc[data.fraud == 1,'gender'].value_counts().plot(kind='pie',autopct='%.2f%%')\n",
        "plt.title('Gender Distribution')\n",
        "plt.show()\n"
      ],
      "metadata": {
        "colab": {
          "base_uri": "https://localhost:8080/",
          "height": 268
        },
        "id": "X5-YZcHBaNGa",
        "outputId": "9ce9da9a-022c-4c38-942f-e3b5c78a6dd6"
      },
      "execution_count": null,
      "outputs": [
        {
          "output_type": "display_data",
          "data": {
            "image/png": "[encoded data removed]",
            "text/plain": [
              "<Figure size 432x288 with 1 Axes>"
            ]
          },
          "metadata": {}
        }
      ]
    },
    {
      "cell_type": "markdown",
      "source": [
        "There are more female fraudsters  "
      ],
      "metadata": {
        "id": "sI2tBC616kT3"
      }
    },
    {
      "cell_type": "code",
      "source": [
        "print(\"Mean feature values per category\",data.groupby('category')['amount','fraud'].mean())"
      ],
      "metadata": {
        "id": "idaevWNb9gYW",
        "colab": {
          "base_uri": "https://localhost:8080/"
        },
        "outputId": "3b50f2e1-4205-4dab-c499-b28a866e1409"
      },
      "execution_count": null,
      "outputs": [
        {
          "output_type": "stream",
          "name": "stdout",
          "text": [
            "Mean feature values per category                amount     fraud\n",
            "category                       \n",
            "0           42.760321  0.017825\n",
            "1           45.458649  0.000000\n",
            "2           61.898435  0.019169\n",
            "3           35.893027  0.000000\n",
            "4          159.322835  0.151408\n",
            "5          160.044386  0.192982\n",
            "6          149.405824  0.175824\n",
            "7           43.161322  0.019157\n",
            "8          318.478889  0.944444\n",
            "9          121.247033  0.175824\n",
            "10         206.832410  0.446043\n",
            "11         114.769449  0.047244\n",
            "12          27.014609  0.000000\n",
            "13        2513.481633  0.693878\n",
            "14          71.461045  0.068776\n"
          ]
        }
      ]
    },
    {
      "cell_type": "code",
      "source": [
        "#Fraud distribution grouped by category\n",
        "data.groupby('category')['fraud'].mean().sort_values(ascending=True).plot(kind='bar')\n",
        "plt.title('Fraud distribution grouped by category',weight='bold')\n"
      ],
      "metadata": {
        "colab": {
          "base_uri": "https://localhost:8080/",
          "height": 341
        },
        "id": "5QumvXPQkk0G",
        "outputId": "f7d667cb-64af-4e22-887d-794d2a2863fa"
      },
      "execution_count": null,
      "outputs": [
        {
          "output_type": "execute_result",
          "data": {
            "text/plain": [
              "Text(0.5, 1.0, 'Fraud distribution grouped by category')"
            ]
          },
          "metadata": {},
          "execution_count": 190
        },
        {
          "output_type": "display_data",
          "data": {
            "image/png": "[encoded data removed]",
            "text/plain": [
              "<Figure size 432x288 with 1 Axes>"
            ]
          },
          "metadata": {
            "needs_background": "light"
          }
        }
      ]
    },
    {
      "cell_type": "markdown",
      "source": [
        "We can see the mean amount and fraud percent by category below. Looks like leisure and the travel is the most selected categories for fraudsters. Fraudsters chose the categories which people spend more on average. Let's confirm this hypothesis by checking the fraud and non-fraud amount transacted."
      ],
      "metadata": {
        "id": "BecXPLJT52MK"
      }
    },
    {
      "cell_type": "markdown",
      "source": [
        "Our hypothesis for fraudsters choosing the categories which people spend more is only partly correct, but as we can see in the table below we can confidently say that a fraudulent transaction will be much more (about four times or more) than average for that category."
      ],
      "metadata": {
        "id": "ZMnFQgpV63QS"
      }
    },
    {
      "cell_type": "code",
      "source": [
        "# Create two dataframes with fraud and non-fraud data \n",
        "pd.concat([fraud.groupby('category')['amount'].mean(),non_fraud.groupby('category')['amount'].mean(),\\\n",
        "           data.groupby('category')['fraud'].mean()*100],keys=[\"Fraudulent\",\"Non-Fraudulent\",\"Percent(%)\"],axis=1,\\\n",
        "          sort=False).sort_values(by=['Non-Fraudulent'])"
      ],
      "metadata": {
        "id": "5OV_2Sbe9gFs",
        "colab": {
          "base_uri": "https://localhost:8080/",
          "height": 520
        },
        "outputId": "c378bfa0-6224-4f62-f76b-e9da53c90bd0"
      },
      "execution_count": null,
      "outputs": [
        {
          "output_type": "execute_result",
          "data": {
            "text/html": [
              "\n",
              "  <div id=\"df-c7d925bc-66cd-4212-b5fb-ac1301c1715f\">\n",
              "    <div class=\"colab-df-container\">\n",
              "      <div>\n",
              "<style scoped>\n",
              "    .dataframe tbody tr th:only-of-type {\n",
              "        vertical-align: middle;\n",
              "    }\n",
              "\n",
              "    .dataframe tbody tr th {\n",
              "        vertical-align: top;\n",
              "    }\n",
              "\n",
              "    .dataframe thead th {\n",
              "        text-align: right;\n",
              "    }\n",
              "</style>\n",
              "<table border=\"1\" class=\"dataframe\">\n",
              "  <thead>\n",
              "    <tr style=\"text-align: right;\">\n",
              "      <th></th>\n",
              "      <th>Fraudulent</th>\n",
              "      <th>Non-Fraudulent</th>\n",
              "      <th>Percent(%)</th>\n",
              "    </tr>\n",
              "  </thead>\n",
              "  <tbody>\n",
              "    <tr>\n",
              "      <th>12</th>\n",
              "      <td>NaN</td>\n",
              "      <td>27.014609</td>\n",
              "      <td>0.000000</td>\n",
              "    </tr>\n",
              "    <tr>\n",
              "      <th>3</th>\n",
              "      <td>NaN</td>\n",
              "      <td>35.893027</td>\n",
              "      <td>0.000000</td>\n",
              "    </tr>\n",
              "    <tr>\n",
              "      <th>0</th>\n",
              "      <td>145.496000</td>\n",
              "      <td>40.895789</td>\n",
              "      <td>1.782531</td>\n",
              "    </tr>\n",
              "    <tr>\n",
              "      <th>7</th>\n",
              "      <td>158.890000</td>\n",
              "      <td>40.900996</td>\n",
              "      <td>1.915709</td>\n",
              "    </tr>\n",
              "    <tr>\n",
              "      <th>1</th>\n",
              "      <td>NaN</td>\n",
              "      <td>45.458649</td>\n",
              "      <td>0.000000</td>\n",
              "    </tr>\n",
              "    <tr>\n",
              "      <th>14</th>\n",
              "      <td>240.824200</td>\n",
              "      <td>58.952688</td>\n",
              "      <td>6.877579</td>\n",
              "    </tr>\n",
              "    <tr>\n",
              "      <th>2</th>\n",
              "      <td>185.795000</td>\n",
              "      <td>59.477003</td>\n",
              "      <td>1.916933</td>\n",
              "    </tr>\n",
              "    <tr>\n",
              "      <th>10</th>\n",
              "      <td>365.688710</td>\n",
              "      <td>78.922143</td>\n",
              "      <td>44.604317</td>\n",
              "    </tr>\n",
              "    <tr>\n",
              "      <th>9</th>\n",
              "      <td>304.653125</td>\n",
              "      <td>82.120400</td>\n",
              "      <td>17.582418</td>\n",
              "    </tr>\n",
              "    <tr>\n",
              "      <th>8</th>\n",
              "      <td>331.707059</td>\n",
              "      <td>93.600000</td>\n",
              "      <td>94.444444</td>\n",
              "    </tr>\n",
              "    <tr>\n",
              "      <th>11</th>\n",
              "      <td>449.583333</td>\n",
              "      <td>98.167107</td>\n",
              "      <td>4.724409</td>\n",
              "    </tr>\n",
              "    <tr>\n",
              "      <th>5</th>\n",
              "      <td>404.552727</td>\n",
              "      <td>101.575000</td>\n",
              "      <td>19.298246</td>\n",
              "    </tr>\n",
              "    <tr>\n",
              "      <th>6</th>\n",
              "      <td>355.188125</td>\n",
              "      <td>105.505600</td>\n",
              "      <td>17.582418</td>\n",
              "    </tr>\n",
              "    <tr>\n",
              "      <th>4</th>\n",
              "      <td>441.791744</td>\n",
              "      <td>108.923817</td>\n",
              "      <td>15.140845</td>\n",
              "    </tr>\n",
              "    <tr>\n",
              "      <th>13</th>\n",
              "      <td>3253.439412</td>\n",
              "      <td>836.244000</td>\n",
              "      <td>69.387755</td>\n",
              "    </tr>\n",
              "  </tbody>\n",
              "</table>\n",
              "</div>\n",
              "      <button class=\"colab-df-convert\" onclick=\"convertToInteractive('df-c7d925bc-66cd-4212-b5fb-ac1301c1715f')\"\n",
              "              title=\"Convert this dataframe to an interactive table.\"\n",
              "              style=\"display:none;\">\n",
              "        \n",
              "  <svg xmlns=\"http://www.w3.org/2000/svg\" height=\"24px\"viewBox=\"0 0 24 24\"\n",
              "       width=\"24px\">\n",
              "    <path d=\"M0 0h24v24H0V0z\" fill=\"none\"/>\n",
              "    <path d=\"M18.56 5.44l.94 2.06.94-2.06 2.06-.94-2.06-.94-.94-2.06-.94 2.06-2.06.94zm-11 1L8.5 8.5l.94-2.06 2.06-.94-2.06-.94L8.5 2.5l-.94 2.06-2.06.94zm10 10l.94 2.06.94-2.06 2.06-.94-2.06-.94-.94-2.06-.94 2.06-2.06.94z\"/><path d=\"M17.41 7.96l-1.37-1.37c-.4-.4-.92-.59-1.43-.59-.52 0-1.04.2-1.43.59L10.3 9.45l-7.72 7.72c-.78.78-.78 2.05 0 2.83L4 21.41c.39.39.9.59 1.41.59.51 0 1.02-.2 1.41-.59l7.78-7.78 2.81-2.81c.8-.78.8-2.07 0-2.86zM5.41 20L4 18.59l7.72-7.72 1.47 1.35L5.41 20z\"/>\n",
              "  </svg>\n",
              "      </button>\n",
              "      \n",
              "  <style>\n",
              "    .colab-df-container {\n",
              "      display:flex;\n",
              "      flex-wrap:wrap;\n",
              "      gap: 12px;\n",
              "    }\n",
              "\n",
              "    .colab-df-convert {\n",
              "      background-color: #E8F0FE;\n",
              "      border: none;\n",
              "      border-radius: 50%;\n",
              "      cursor: pointer;\n",
              "      display: none;\n",
              "      fill: #1967D2;\n",
              "      height: 32px;\n",
              "      padding: 0 0 0 0;\n",
              "      width: 32px;\n",
              "    }\n",
              "\n",
              "    .colab-df-convert:hover {\n",
              "      background-color: #E2EBFA;\n",
              "      box-shadow: 0px 1px 2px rgba(60, 64, 67, 0.3), 0px 1px 3px 1px rgba(60, 64, 67, 0.15);\n",
              "      fill: #174EA6;\n",
              "    }\n",
              "\n",
              "    [theme=dark] .colab-df-convert {\n",
              "      background-color: #3B4455;\n",
              "      fill: #D2E3FC;\n",
              "    }\n",
              "\n",
              "    [theme=dark] .colab-df-convert:hover {\n",
              "      background-color: #434B5C;\n",
              "      box-shadow: 0px 1px 3px 1px rgba(0, 0, 0, 0.15);\n",
              "      filter: drop-shadow(0px 1px 2px rgba(0, 0, 0, 0.3));\n",
              "      fill: #FFFFFF;\n",
              "    }\n",
              "  </style>\n",
              "\n",
              "      <script>\n",
              "        const buttonEl =\n",
              "          document.querySelector('#df-c7d925bc-66cd-4212-b5fb-ac1301c1715f button.colab-df-convert');\n",
              "        buttonEl.style.display =\n",
              "          google.colab.kernel.accessAllowed ? 'block' : 'none';\n",
              "\n",
              "        async function convertToInteractive(key) {\n",
              "          const element = document.querySelector('#df-c7d925bc-66cd-4212-b5fb-ac1301c1715f');\n",
              "          const dataTable =\n",
              "            await google.colab.kernel.invokeFunction('convertToInteractive',\n",
              "                                                     [key], {});\n",
              "          if (!dataTable) return;\n",
              "\n",
              "          const docLinkHtml = 'Like what you see? Visit the ' +\n",
              "            '<a target=\"_blank\" href=https://colab.research.google.com/notebooks/data_table.ipynb>data table notebook</a>'\n",
              "            + ' to learn more about interactive tables.';\n",
              "          element.innerHTML = '';\n",
              "          dataTable['output_type'] = 'display_data';\n",
              "          await google.colab.output.renderOutput(dataTable, element);\n",
              "          const docLink = document.createElement('div');\n",
              "          docLink.innerHTML = docLinkHtml;\n",
              "          element.appendChild(docLink);\n",
              "        }\n",
              "      </script>\n",
              "    </div>\n",
              "  </div>\n",
              "  "
            ],
            "text/plain": [
              "     Fraudulent  Non-Fraudulent  Percent(%)\n",
              "12          NaN       27.014609    0.000000\n",
              "3           NaN       35.893027    0.000000\n",
              "0    145.496000       40.895789    1.782531\n",
              "7    158.890000       40.900996    1.915709\n",
              "1           NaN       45.458649    0.000000\n",
              "14   240.824200       58.952688    6.877579\n",
              "2    185.795000       59.477003    1.916933\n",
              "10   365.688710       78.922143   44.604317\n",
              "9    304.653125       82.120400   17.582418\n",
              "8    331.707059       93.600000   94.444444\n",
              "11   449.583333       98.167107    4.724409\n",
              "5    404.552727      101.575000   19.298246\n",
              "6    355.188125      105.505600   17.582418\n",
              "4    441.791744      108.923817   15.140845\n",
              "13  3253.439412      836.244000   69.387755"
            ]
          },
          "metadata": {},
          "execution_count": 191
        }
      ]
    },
    {
      "cell_type": "code",
      "source": [
        "\n",
        "data.groupby('fraud')['category'].value_counts()\n"
      ],
      "metadata": {
        "colab": {
          "base_uri": "https://localhost:8080/"
        },
        "id": "iwMIIapcoq-H",
        "outputId": "5a384845-f074-4472-85b4-2e6cf6e7a5b1"
      },
      "execution_count": null,
      "outputs": [
        {
          "output_type": "execute_result",
          "data": {
            "text/plain": [
              "fraud  category               \n",
              "0.0    'es_transportation'        119851\n",
              "       'es_food'                    3976\n",
              "       'es_wellnessandbeauty'       3735\n",
              "       'es_health'                  2742\n",
              "       'es_barsandrestaurants'      2402\n",
              "       'es_hyper'                   2137\n",
              "       'es_fashion'                 1564\n",
              "       'es_sportsandtoys'            758\n",
              "       'es_tech'                     536\n",
              "       'es_home'                     460\n",
              "       'es_otherservices'            342\n",
              "       'es_hotelservices'            328\n",
              "       'es_contents'                 193\n",
              "       'es_travel'                    58\n",
              "       'es_leisure'                   11\n",
              "1.0    'es_sportsandtoys'            572\n",
              "       'es_health'                   452\n",
              "       'es_wellnessandbeauty'        202\n",
              "       'es_travel'                   172\n",
              "       'es_leisure'                  144\n",
              "       'es_hotelservices'            114\n",
              "       'es_home'                      84\n",
              "       'es_hyper'                     84\n",
              "       'es_otherservices'             74\n",
              "       'es_tech'                      42\n",
              "       'es_barsandrestaurants'        38\n",
              "       'es_fashion'                   30\n",
              "Name: category, dtype: int64"
            ]
          },
          "metadata": {},
          "execution_count": 26
        }
      ]
    },
    {
      "cell_type": "markdown",
      "source": [
        "Average amount spend it categories are similar; except for the travel category which goes very high."
      ],
      "metadata": {
        "id": "oOxSOnJb7WMN"
      }
    },
    {
      "cell_type": "code",
      "source": [
        "# Plot histograms of the amounts in fraud and non-fraud data \n",
        "plt.figure(figsize=(30,10))\n",
        "sns.boxplot(x=data.category,y=data.amount)\n",
        "plt.title(\"Boxplot for the Amount spend in category\",weight='bold')\n",
        "plt.ylim(0,4000)\n",
        "plt.legend()\n",
        "vizSave('Amounts in fraud and non-fraud data.jpeg')\n",
        "plt.show()"
      ],
      "metadata": {
        "id": "bvw7DKeu9fqN",
        "colab": {
          "base_uri": "https://localhost:8080/",
          "height": 395
        },
        "outputId": "971e239f-aae8-4866-ecd4-fa28a484555a"
      },
      "execution_count": null,
      "outputs": [
        {
          "output_type": "stream",
          "name": "stderr",
          "text": [
            "No handles with labels found to put in legend.\n"
          ]
        },
        {
          "output_type": "display_data",
          "data": {
            "image/png": "[encoded data removed]",
            "text/plain": [
              "<Figure size 2160x720 with 1 Axes>"
            ]
          },
          "metadata": {
            "needs_background": "light"
          }
        }
      ]
    },
    {
      "cell_type": "code",
      "source": [
        "# Plot histograms of the amounts in fraud and non-fraud data \n",
        "plt.figure(figsize=(10,10))\n",
        "plt.hist(fraud.amount, alpha=0.5, label='fraud',bins=100)\n",
        "plt.hist(non_fraud.amount, alpha=0.5, label='nonfraud',bins=100)\n",
        "plt.title('Histogram for fraudulent and nonfraudulent payments',weight='bold')\n",
        "plt.ylim(0,10000)\n",
        "plt.xlim(0,1000)\n",
        "plt.legend()\n",
        "plt.show()"
      ],
      "metadata": {
        "colab": {
          "base_uri": "https://localhost:8080/",
          "height": 625
        },
        "id": "73mm5_azk1KO",
        "outputId": "28692c5d-9237-4d1d-8b82-581e2212044c"
      },
      "execution_count": null,
      "outputs": [
        {
          "output_type": "display_data",
          "data": {
            "image/png": "[encoded data removed]",
            "text/plain": [
              "<Figure size 720x720 with 1 Axes>"
            ]
          },
          "metadata": {
            "needs_background": "light"
          }
        }
      ]
    },
    {
      "cell_type": "markdown",
      "source": [
        "Again we can see in the histogram below the fradulent transactions are less in count but more in amount."
      ],
      "metadata": {
        "id": "vz7C7XgMm27I"
      }
    },
    {
      "cell_type": "code",
      "source": [
        "print((data.groupby('age')['fraud'].mean()*100).reset_index().rename(columns={'age':'Age','fraud' : 'Fraud Percent'}).sort_values(by='Fraud Percent'))"
      ],
      "metadata": {
        "id": "aIzZEkWZoASN",
        "colab": {
          "base_uri": "https://localhost:8080/"
        },
        "outputId": "d4c477e0-9a4f-4511-8625-d06f04a2dd32"
      },
      "execution_count": null,
      "outputs": [
        {
          "output_type": "stream",
          "name": "stdout",
          "text": [
            "   Age  Fraud Percent\n",
            "2    2       1.167173\n",
            "4    4       1.353093\n",
            "1    1       1.495399\n",
            "5    5       1.735127\n",
            "3    3       2.109102\n",
            "6    6       2.712161\n",
            "0    0       3.092784\n"
          ]
        }
      ]
    },
    {
      "cell_type": "markdown",
      "source": [
        "Looks like fraud occurs more in ages equal and below 18(0th category). Can it be because of fraudsters thinking it would be less consequences if they show their age younger, or maybe they really are young."
      ],
      "metadata": {
        "id": "0nStx7ksoDU-"
      }
    },
    {
      "cell_type": "code",
      "source": [
        "data.corr().style.format(\"{:.4}\").background_gradient(cmap=plt.get_cmap('coolwarm'), axis=1)\n",
        "\n"
      ],
      "metadata": {
        "colab": {
          "base_uri": "https://localhost:8080/",
          "height": 300
        },
        "id": "7v7rLC1fJYVb",
        "outputId": "111c9bd2-277d-46cb-a2c3-32346072c2a9"
      },
      "execution_count": null,
      "outputs": [
        {
          "output_type": "execute_result",
          "data": {
            "text/html": [
              "<style  type=\"text/css\" >\n",
              "#T_fee2bd84_7514_11ec_beb3_0242ac1c0002row0_col0,#T_fee2bd84_7514_11ec_beb3_0242ac1c0002row1_col1,#T_fee2bd84_7514_11ec_beb3_0242ac1c0002row2_col2,#T_fee2bd84_7514_11ec_beb3_0242ac1c0002row3_col3,#T_fee2bd84_7514_11ec_beb3_0242ac1c0002row4_col4,#T_fee2bd84_7514_11ec_beb3_0242ac1c0002row5_col5,#T_fee2bd84_7514_11ec_beb3_0242ac1c0002row6_col6,#T_fee2bd84_7514_11ec_beb3_0242ac1c0002row7_col7{\n",
              "            background-color:  #b40426;\n",
              "            color:  #f1f1f1;\n",
              "        }#T_fee2bd84_7514_11ec_beb3_0242ac1c0002row0_col1,#T_fee2bd84_7514_11ec_beb3_0242ac1c0002row4_col1,#T_fee2bd84_7514_11ec_beb3_0242ac1c0002row4_col5{\n",
              "            background-color:  #445acc;\n",
              "            color:  #f1f1f1;\n",
              "        }#T_fee2bd84_7514_11ec_beb3_0242ac1c0002row0_col2,#T_fee2bd84_7514_11ec_beb3_0242ac1c0002row0_col6,#T_fee2bd84_7514_11ec_beb3_0242ac1c0002row0_col7,#T_fee2bd84_7514_11ec_beb3_0242ac1c0002row3_col0,#T_fee2bd84_7514_11ec_beb3_0242ac1c0002row4_col2{\n",
              "            background-color:  #455cce;\n",
              "            color:  #f1f1f1;\n",
              "        }#T_fee2bd84_7514_11ec_beb3_0242ac1c0002row0_col3,#T_fee2bd84_7514_11ec_beb3_0242ac1c0002row0_col5,#T_fee2bd84_7514_11ec_beb3_0242ac1c0002row3_col5{\n",
              "            background-color:  #465ecf;\n",
              "            color:  #f1f1f1;\n",
              "        }#T_fee2bd84_7514_11ec_beb3_0242ac1c0002row0_col4,#T_fee2bd84_7514_11ec_beb3_0242ac1c0002row1_col7,#T_fee2bd84_7514_11ec_beb3_0242ac1c0002row2_col5,#T_fee2bd84_7514_11ec_beb3_0242ac1c0002row3_col7,#T_fee2bd84_7514_11ec_beb3_0242ac1c0002row4_col0,#T_fee2bd84_7514_11ec_beb3_0242ac1c0002row5_col7,#T_fee2bd84_7514_11ec_beb3_0242ac1c0002row6_col5,#T_fee2bd84_7514_11ec_beb3_0242ac1c0002row7_col5{\n",
              "            background-color:  #3b4cc0;\n",
              "            color:  #f1f1f1;\n",
              "        }#T_fee2bd84_7514_11ec_beb3_0242ac1c0002row1_col0,#T_fee2bd84_7514_11ec_beb3_0242ac1c0002row1_col4,#T_fee2bd84_7514_11ec_beb3_0242ac1c0002row1_col6{\n",
              "            background-color:  #3e51c5;\n",
              "            color:  #f1f1f1;\n",
              "        }#T_fee2bd84_7514_11ec_beb3_0242ac1c0002row1_col2{\n",
              "            background-color:  #4055c8;\n",
              "            color:  #f1f1f1;\n",
              "        }#T_fee2bd84_7514_11ec_beb3_0242ac1c0002row1_col3,#T_fee2bd84_7514_11ec_beb3_0242ac1c0002row2_col0,#T_fee2bd84_7514_11ec_beb3_0242ac1c0002row2_col1,#T_fee2bd84_7514_11ec_beb3_0242ac1c0002row2_col4{\n",
              "            background-color:  #3d50c3;\n",
              "            color:  #f1f1f1;\n",
              "        }#T_fee2bd84_7514_11ec_beb3_0242ac1c0002row1_col5,#T_fee2bd84_7514_11ec_beb3_0242ac1c0002row2_col3,#T_fee2bd84_7514_11ec_beb3_0242ac1c0002row2_col7,#T_fee2bd84_7514_11ec_beb3_0242ac1c0002row3_col1,#T_fee2bd84_7514_11ec_beb3_0242ac1c0002row3_col4{\n",
              "            background-color:  #4257c9;\n",
              "            color:  #f1f1f1;\n",
              "        }#T_fee2bd84_7514_11ec_beb3_0242ac1c0002row2_col6,#T_fee2bd84_7514_11ec_beb3_0242ac1c0002row3_col6{\n",
              "            background-color:  #3f53c6;\n",
              "            color:  #f1f1f1;\n",
              "        }#T_fee2bd84_7514_11ec_beb3_0242ac1c0002row3_col2{\n",
              "            background-color:  #4961d2;\n",
              "            color:  #f1f1f1;\n",
              "        }#T_fee2bd84_7514_11ec_beb3_0242ac1c0002row4_col3{\n",
              "            background-color:  #4358cb;\n",
              "            color:  #f1f1f1;\n",
              "        }#T_fee2bd84_7514_11ec_beb3_0242ac1c0002row4_col6,#T_fee2bd84_7514_11ec_beb3_0242ac1c0002row7_col3{\n",
              "            background-color:  #536edd;\n",
              "            color:  #000000;\n",
              "        }#T_fee2bd84_7514_11ec_beb3_0242ac1c0002row4_col7,#T_fee2bd84_7514_11ec_beb3_0242ac1c0002row5_col3{\n",
              "            background-color:  #5f7fe8;\n",
              "            color:  #000000;\n",
              "        }#T_fee2bd84_7514_11ec_beb3_0242ac1c0002row5_col0{\n",
              "            background-color:  #5d7ce6;\n",
              "            color:  #000000;\n",
              "        }#T_fee2bd84_7514_11ec_beb3_0242ac1c0002row5_col1{\n",
              "            background-color:  #5e7de7;\n",
              "            color:  #000000;\n",
              "        }#T_fee2bd84_7514_11ec_beb3_0242ac1c0002row5_col2{\n",
              "            background-color:  #5977e3;\n",
              "            color:  #000000;\n",
              "        }#T_fee2bd84_7514_11ec_beb3_0242ac1c0002row5_col4{\n",
              "            background-color:  #5a78e4;\n",
              "            color:  #000000;\n",
              "        }#T_fee2bd84_7514_11ec_beb3_0242ac1c0002row5_col6{\n",
              "            background-color:  #485fd1;\n",
              "            color:  #f1f1f1;\n",
              "        }#T_fee2bd84_7514_11ec_beb3_0242ac1c0002row6_col0{\n",
              "            background-color:  #4e68d8;\n",
              "            color:  #000000;\n",
              "        }#T_fee2bd84_7514_11ec_beb3_0242ac1c0002row6_col1{\n",
              "            background-color:  #4c66d6;\n",
              "            color:  #000000;\n",
              "        }#T_fee2bd84_7514_11ec_beb3_0242ac1c0002row6_col2{\n",
              "            background-color:  #516ddb;\n",
              "            color:  #000000;\n",
              "        }#T_fee2bd84_7514_11ec_beb3_0242ac1c0002row6_col3{\n",
              "            background-color:  #4a63d3;\n",
              "            color:  #f1f1f1;\n",
              "        }#T_fee2bd84_7514_11ec_beb3_0242ac1c0002row6_col4,#T_fee2bd84_7514_11ec_beb3_0242ac1c0002row7_col0{\n",
              "            background-color:  #5b7ae5;\n",
              "            color:  #000000;\n",
              "        }#T_fee2bd84_7514_11ec_beb3_0242ac1c0002row6_col7{\n",
              "            background-color:  #dedcdb;\n",
              "            color:  #000000;\n",
              "        }#T_fee2bd84_7514_11ec_beb3_0242ac1c0002row7_col1{\n",
              "            background-color:  #5673e0;\n",
              "            color:  #000000;\n",
              "        }#T_fee2bd84_7514_11ec_beb3_0242ac1c0002row7_col2{\n",
              "            background-color:  #6180e9;\n",
              "            color:  #000000;\n",
              "        }#T_fee2bd84_7514_11ec_beb3_0242ac1c0002row7_col4{\n",
              "            background-color:  #7699f6;\n",
              "            color:  #000000;\n",
              "        }#T_fee2bd84_7514_11ec_beb3_0242ac1c0002row7_col6{\n",
              "            background-color:  #e4d9d2;\n",
              "            color:  #000000;\n",
              "        }</style><table id=\"T_fee2bd84_7514_11ec_beb3_0242ac1c0002\" class=\"dataframe\"><thead>    <tr>        <th class=\"blank level0\" ></th>        <th class=\"col_heading level0 col0\" >step</th>        <th class=\"col_heading level0 col1\" >customer</th>        <th class=\"col_heading level0 col2\" >age</th>        <th class=\"col_heading level0 col3\" >gender</th>        <th class=\"col_heading level0 col4\" >merchant</th>        <th class=\"col_heading level0 col5\" >category</th>        <th class=\"col_heading level0 col6\" >amount</th>        <th class=\"col_heading level0 col7\" >fraud</th>    </tr></thead><tbody>\n",
              "                <tr>\n",
              "                        <th id=\"T_fee2bd84_7514_11ec_beb3_0242ac1c0002level0_row0\" class=\"row_heading level0 row0\" >step</th>\n",
              "                        <td id=\"T_fee2bd84_7514_11ec_beb3_0242ac1c0002row0_col0\" class=\"data row0 col0\" >1.0</td>\n",
              "                        <td id=\"T_fee2bd84_7514_11ec_beb3_0242ac1c0002row0_col1\" class=\"data row0 col1\" >-0.00447</td>\n",
              "                        <td id=\"T_fee2bd84_7514_11ec_beb3_0242ac1c0002row0_col2\" class=\"data row0 col2\" >0.00108</td>\n",
              "                        <td id=\"T_fee2bd84_7514_11ec_beb3_0242ac1c0002row0_col3\" class=\"data row0 col3\" >0.00441</td>\n",
              "                        <td id=\"T_fee2bd84_7514_11ec_beb3_0242ac1c0002row0_col4\" class=\"data row0 col4\" >-0.03896</td>\n",
              "                        <td id=\"T_fee2bd84_7514_11ec_beb3_0242ac1c0002row0_col5\" class=\"data row0 col5\" >0.004317</td>\n",
              "                        <td id=\"T_fee2bd84_7514_11ec_beb3_0242ac1c0002row0_col6\" class=\"data row0 col6\" >-0.001163</td>\n",
              "                        <td id=\"T_fee2bd84_7514_11ec_beb3_0242ac1c0002row0_col7\" class=\"data row0 col7\" >-0.001544</td>\n",
              "            </tr>\n",
              "            <tr>\n",
              "                        <th id=\"T_fee2bd84_7514_11ec_beb3_0242ac1c0002level0_row1\" class=\"row_heading level0 row1\" >customer</th>\n",
              "                        <td id=\"T_fee2bd84_7514_11ec_beb3_0242ac1c0002row1_col0\" class=\"data row1 col0\" >-0.00447</td>\n",
              "                        <td id=\"T_fee2bd84_7514_11ec_beb3_0242ac1c0002row1_col1\" class=\"data row1 col1\" >1.0</td>\n",
              "                        <td id=\"T_fee2bd84_7514_11ec_beb3_0242ac1c0002row1_col2\" class=\"data row1 col2\" >0.002312</td>\n",
              "                        <td id=\"T_fee2bd84_7514_11ec_beb3_0242ac1c0002row1_col3\" class=\"data row1 col3\" >-0.008008</td>\n",
              "                        <td id=\"T_fee2bd84_7514_11ec_beb3_0242ac1c0002row1_col4\" class=\"data row1 col4\" >-0.004757</td>\n",
              "                        <td id=\"T_fee2bd84_7514_11ec_beb3_0242ac1c0002row1_col5\" class=\"data row1 col5\" >0.005653</td>\n",
              "                        <td id=\"T_fee2bd84_7514_11ec_beb3_0242ac1c0002row1_col6\" class=\"data row1 col6\" >-0.005267</td>\n",
              "                        <td id=\"T_fee2bd84_7514_11ec_beb3_0242ac1c0002row1_col7\" class=\"data row1 col7\" >-0.0184</td>\n",
              "            </tr>\n",
              "            <tr>\n",
              "                        <th id=\"T_fee2bd84_7514_11ec_beb3_0242ac1c0002level0_row2\" class=\"row_heading level0 row2\" >age</th>\n",
              "                        <td id=\"T_fee2bd84_7514_11ec_beb3_0242ac1c0002row2_col0\" class=\"data row2 col0\" >0.00108</td>\n",
              "                        <td id=\"T_fee2bd84_7514_11ec_beb3_0242ac1c0002row2_col1\" class=\"data row2 col1\" >0.002312</td>\n",
              "                        <td id=\"T_fee2bd84_7514_11ec_beb3_0242ac1c0002row2_col2\" class=\"data row2 col2\" >1.0</td>\n",
              "                        <td id=\"T_fee2bd84_7514_11ec_beb3_0242ac1c0002row2_col3\" class=\"data row2 col3\" >0.01873</td>\n",
              "                        <td id=\"T_fee2bd84_7514_11ec_beb3_0242ac1c0002row2_col4\" class=\"data row2 col4\" >0.001269</td>\n",
              "                        <td id=\"T_fee2bd84_7514_11ec_beb3_0242ac1c0002row2_col5\" class=\"data row2 col5\" >-0.008113</td>\n",
              "                        <td id=\"T_fee2bd84_7514_11ec_beb3_0242ac1c0002row2_col6\" class=\"data row2 col6\" >0.01087</td>\n",
              "                        <td id=\"T_fee2bd84_7514_11ec_beb3_0242ac1c0002row2_col7\" class=\"data row2 col7\" >0.01644</td>\n",
              "            </tr>\n",
              "            <tr>\n",
              "                        <th id=\"T_fee2bd84_7514_11ec_beb3_0242ac1c0002level0_row3\" class=\"row_heading level0 row3\" >gender</th>\n",
              "                        <td id=\"T_fee2bd84_7514_11ec_beb3_0242ac1c0002row3_col0\" class=\"data row3 col0\" >0.00441</td>\n",
              "                        <td id=\"T_fee2bd84_7514_11ec_beb3_0242ac1c0002row3_col1\" class=\"data row3 col1\" >-0.008008</td>\n",
              "                        <td id=\"T_fee2bd84_7514_11ec_beb3_0242ac1c0002row3_col2\" class=\"data row3 col2\" >0.01873</td>\n",
              "                        <td id=\"T_fee2bd84_7514_11ec_beb3_0242ac1c0002row3_col3\" class=\"data row3 col3\" >1.0</td>\n",
              "                        <td id=\"T_fee2bd84_7514_11ec_beb3_0242ac1c0002row3_col4\" class=\"data row3 col4\" >-0.007843</td>\n",
              "                        <td id=\"T_fee2bd84_7514_11ec_beb3_0242ac1c0002row3_col5\" class=\"data row3 col5\" >0.01071</td>\n",
              "                        <td id=\"T_fee2bd84_7514_11ec_beb3_0242ac1c0002row3_col6\" class=\"data row3 col6\" >-0.0126</td>\n",
              "                        <td id=\"T_fee2bd84_7514_11ec_beb3_0242ac1c0002row3_col7\" class=\"data row3 col7\" >-0.03251</td>\n",
              "            </tr>\n",
              "            <tr>\n",
              "                        <th id=\"T_fee2bd84_7514_11ec_beb3_0242ac1c0002level0_row4\" class=\"row_heading level0 row4\" >merchant</th>\n",
              "                        <td id=\"T_fee2bd84_7514_11ec_beb3_0242ac1c0002row4_col0\" class=\"data row4 col0\" >-0.03896</td>\n",
              "                        <td id=\"T_fee2bd84_7514_11ec_beb3_0242ac1c0002row4_col1\" class=\"data row4 col1\" >-0.004757</td>\n",
              "                        <td id=\"T_fee2bd84_7514_11ec_beb3_0242ac1c0002row4_col2\" class=\"data row4 col2\" >0.001269</td>\n",
              "                        <td id=\"T_fee2bd84_7514_11ec_beb3_0242ac1c0002row4_col3\" class=\"data row4 col3\" >-0.007843</td>\n",
              "                        <td id=\"T_fee2bd84_7514_11ec_beb3_0242ac1c0002row4_col4\" class=\"data row4 col4\" >1.0</td>\n",
              "                        <td id=\"T_fee2bd84_7514_11ec_beb3_0242ac1c0002row4_col5\" class=\"data row4 col5\" >-0.003975</td>\n",
              "                        <td id=\"T_fee2bd84_7514_11ec_beb3_0242ac1c0002row4_col6\" class=\"data row4 col6\" >0.04606</td>\n",
              "                        <td id=\"T_fee2bd84_7514_11ec_beb3_0242ac1c0002row4_col7\" class=\"data row4 col7\" >0.08483</td>\n",
              "            </tr>\n",
              "            <tr>\n",
              "                        <th id=\"T_fee2bd84_7514_11ec_beb3_0242ac1c0002level0_row5\" class=\"row_heading level0 row5\" >category</th>\n",
              "                        <td id=\"T_fee2bd84_7514_11ec_beb3_0242ac1c0002row5_col0\" class=\"data row5 col0\" >0.004317</td>\n",
              "                        <td id=\"T_fee2bd84_7514_11ec_beb3_0242ac1c0002row5_col1\" class=\"data row5 col1\" >0.005653</td>\n",
              "                        <td id=\"T_fee2bd84_7514_11ec_beb3_0242ac1c0002row5_col2\" class=\"data row5 col2\" >-0.008113</td>\n",
              "                        <td id=\"T_fee2bd84_7514_11ec_beb3_0242ac1c0002row5_col3\" class=\"data row5 col3\" >0.01071</td>\n",
              "                        <td id=\"T_fee2bd84_7514_11ec_beb3_0242ac1c0002row5_col4\" class=\"data row5 col4\" >-0.003975</td>\n",
              "                        <td id=\"T_fee2bd84_7514_11ec_beb3_0242ac1c0002row5_col5\" class=\"data row5 col5\" >1.0</td>\n",
              "                        <td id=\"T_fee2bd84_7514_11ec_beb3_0242ac1c0002row5_col6\" class=\"data row5 col6\" >-0.06959</td>\n",
              "                        <td id=\"T_fee2bd84_7514_11ec_beb3_0242ac1c0002row5_col7\" class=\"data row5 col7\" >-0.1219</td>\n",
              "            </tr>\n",
              "            <tr>\n",
              "                        <th id=\"T_fee2bd84_7514_11ec_beb3_0242ac1c0002level0_row6\" class=\"row_heading level0 row6\" >amount</th>\n",
              "                        <td id=\"T_fee2bd84_7514_11ec_beb3_0242ac1c0002row6_col0\" class=\"data row6 col0\" >-0.001163</td>\n",
              "                        <td id=\"T_fee2bd84_7514_11ec_beb3_0242ac1c0002row6_col1\" class=\"data row6 col1\" >-0.005267</td>\n",
              "                        <td id=\"T_fee2bd84_7514_11ec_beb3_0242ac1c0002row6_col2\" class=\"data row6 col2\" >0.01087</td>\n",
              "                        <td id=\"T_fee2bd84_7514_11ec_beb3_0242ac1c0002row6_col3\" class=\"data row6 col3\" >-0.0126</td>\n",
              "                        <td id=\"T_fee2bd84_7514_11ec_beb3_0242ac1c0002row6_col4\" class=\"data row6 col4\" >0.04606</td>\n",
              "                        <td id=\"T_fee2bd84_7514_11ec_beb3_0242ac1c0002row6_col5\" class=\"data row6 col5\" >-0.06959</td>\n",
              "                        <td id=\"T_fee2bd84_7514_11ec_beb3_0242ac1c0002row6_col6\" class=\"data row6 col6\" >1.0</td>\n",
              "                        <td id=\"T_fee2bd84_7514_11ec_beb3_0242ac1c0002row6_col7\" class=\"data row6 col7\" >0.4709</td>\n",
              "            </tr>\n",
              "            <tr>\n",
              "                        <th id=\"T_fee2bd84_7514_11ec_beb3_0242ac1c0002level0_row7\" class=\"row_heading level0 row7\" >fraud</th>\n",
              "                        <td id=\"T_fee2bd84_7514_11ec_beb3_0242ac1c0002row7_col0\" class=\"data row7 col0\" >-0.001544</td>\n",
              "                        <td id=\"T_fee2bd84_7514_11ec_beb3_0242ac1c0002row7_col1\" class=\"data row7 col1\" >-0.0184</td>\n",
              "                        <td id=\"T_fee2bd84_7514_11ec_beb3_0242ac1c0002row7_col2\" class=\"data row7 col2\" >0.01644</td>\n",
              "                        <td id=\"T_fee2bd84_7514_11ec_beb3_0242ac1c0002row7_col3\" class=\"data row7 col3\" >-0.03251</td>\n",
              "                        <td id=\"T_fee2bd84_7514_11ec_beb3_0242ac1c0002row7_col4\" class=\"data row7 col4\" >0.08483</td>\n",
              "                        <td id=\"T_fee2bd84_7514_11ec_beb3_0242ac1c0002row7_col5\" class=\"data row7 col5\" >-0.1219</td>\n",
              "                        <td id=\"T_fee2bd84_7514_11ec_beb3_0242ac1c0002row7_col6\" class=\"data row7 col6\" >0.4709</td>\n",
              "                        <td id=\"T_fee2bd84_7514_11ec_beb3_0242ac1c0002row7_col7\" class=\"data row7 col7\" >1.0</td>\n",
              "            </tr>\n",
              "    </tbody></table>"
            ],
            "text/plain": [
              "<pandas.io.formats.style.Styler at 0x7fc32060e6d0>"
            ]
          },
          "metadata": {},
          "execution_count": 193
        }
      ]
    },
    {
      "cell_type": "markdown",
      "source": [
        "- Coefficient of one accross the diagonal shows that a variable perfectly correlates to itself\n",
        "- Fraud and amount have positive correlations. This fraudulent actions increase with increase in amounts\n",
        "- Fraud and step has weak negative correlations"
      ],
      "metadata": {
        "id": "PGL9JvwmEBi3"
      }
    },
    {
      "cell_type": "code",
      "source": [
        "data.groupby('fraud')['amount'].describe()"
      ],
      "metadata": {
        "colab": {
          "base_uri": "https://localhost:8080/",
          "height": 143
        },
        "id": "SkMEoHboKsYN",
        "outputId": "33882baf-5de8-4373-dbf2-010d6ebd3651"
      },
      "execution_count": null,
      "outputs": [
        {
          "output_type": "execute_result",
          "data": {
            "text/html": [
              "\n",
              "  <div id=\"df-3505ec3e-1e8c-4c7a-93da-b28eb842a9b8\">\n",
              "    <div class=\"colab-df-container\">\n",
              "      <div>\n",
              "<style scoped>\n",
              "    .dataframe tbody tr th:only-of-type {\n",
              "        vertical-align: middle;\n",
              "    }\n",
              "\n",
              "    .dataframe tbody tr th {\n",
              "        vertical-align: top;\n",
              "    }\n",
              "\n",
              "    .dataframe thead th {\n",
              "        text-align: right;\n",
              "    }\n",
              "</style>\n",
              "<table border=\"1\" class=\"dataframe\">\n",
              "  <thead>\n",
              "    <tr style=\"text-align: right;\">\n",
              "      <th></th>\n",
              "      <th>count</th>\n",
              "      <th>mean</th>\n",
              "      <th>std</th>\n",
              "      <th>min</th>\n",
              "      <th>25%</th>\n",
              "      <th>50%</th>\n",
              "      <th>75%</th>\n",
              "      <th>max</th>\n",
              "    </tr>\n",
              "    <tr>\n",
              "      <th>fraud</th>\n",
              "      <th></th>\n",
              "      <th></th>\n",
              "      <th></th>\n",
              "      <th></th>\n",
              "      <th></th>\n",
              "      <th></th>\n",
              "      <th></th>\n",
              "      <th></th>\n",
              "    </tr>\n",
              "  </thead>\n",
              "  <tbody>\n",
              "    <tr>\n",
              "      <th>0</th>\n",
              "      <td>25445.0</td>\n",
              "      <td>32.391263</td>\n",
              "      <td>38.117929</td>\n",
              "      <td>0.01</td>\n",
              "      <td>13.66</td>\n",
              "      <td>26.62</td>\n",
              "      <td>42.24</td>\n",
              "      <td>2144.86</td>\n",
              "    </tr>\n",
              "    <tr>\n",
              "      <th>1</th>\n",
              "      <td>414.0</td>\n",
              "      <td>588.380266</td>\n",
              "      <td>990.113782</td>\n",
              "      <td>4.32</td>\n",
              "      <td>159.98</td>\n",
              "      <td>317.97</td>\n",
              "      <td>573.39</td>\n",
              "      <td>7432.48</td>\n",
              "    </tr>\n",
              "  </tbody>\n",
              "</table>\n",
              "</div>\n",
              "      <button class=\"colab-df-convert\" onclick=\"convertToInteractive('df-3505ec3e-1e8c-4c7a-93da-b28eb842a9b8')\"\n",
              "              title=\"Convert this dataframe to an interactive table.\"\n",
              "              style=\"display:none;\">\n",
              "        \n",
              "  <svg xmlns=\"http://www.w3.org/2000/svg\" height=\"24px\"viewBox=\"0 0 24 24\"\n",
              "       width=\"24px\">\n",
              "    <path d=\"M0 0h24v24H0V0z\" fill=\"none\"/>\n",
              "    <path d=\"M18.56 5.44l.94 2.06.94-2.06 2.06-.94-2.06-.94-.94-2.06-.94 2.06-2.06.94zm-11 1L8.5 8.5l.94-2.06 2.06-.94-2.06-.94L8.5 2.5l-.94 2.06-2.06.94zm10 10l.94 2.06.94-2.06 2.06-.94-2.06-.94-.94-2.06-.94 2.06-2.06.94z\"/><path d=\"M17.41 7.96l-1.37-1.37c-.4-.4-.92-.59-1.43-.59-.52 0-1.04.2-1.43.59L10.3 9.45l-7.72 7.72c-.78.78-.78 2.05 0 2.83L4 21.41c.39.39.9.59 1.41.59.51 0 1.02-.2 1.41-.59l7.78-7.78 2.81-2.81c.8-.78.8-2.07 0-2.86zM5.41 20L4 18.59l7.72-7.72 1.47 1.35L5.41 20z\"/>\n",
              "  </svg>\n",
              "      </button>\n",
              "      \n",
              "  <style>\n",
              "    .colab-df-container {\n",
              "      display:flex;\n",
              "      flex-wrap:wrap;\n",
              "      gap: 12px;\n",
              "    }\n",
              "\n",
              "    .colab-df-convert {\n",
              "      background-color: #E8F0FE;\n",
              "      border: none;\n",
              "      border-radius: 50%;\n",
              "      cursor: pointer;\n",
              "      display: none;\n",
              "      fill: #1967D2;\n",
              "      height: 32px;\n",
              "      padding: 0 0 0 0;\n",
              "      width: 32px;\n",
              "    }\n",
              "\n",
              "    .colab-df-convert:hover {\n",
              "      background-color: #E2EBFA;\n",
              "      box-shadow: 0px 1px 2px rgba(60, 64, 67, 0.3), 0px 1px 3px 1px rgba(60, 64, 67, 0.15);\n",
              "      fill: #174EA6;\n",
              "    }\n",
              "\n",
              "    [theme=dark] .colab-df-convert {\n",
              "      background-color: #3B4455;\n",
              "      fill: #D2E3FC;\n",
              "    }\n",
              "\n",
              "    [theme=dark] .colab-df-convert:hover {\n",
              "      background-color: #434B5C;\n",
              "      box-shadow: 0px 1px 3px 1px rgba(0, 0, 0, 0.15);\n",
              "      filter: drop-shadow(0px 1px 2px rgba(0, 0, 0, 0.3));\n",
              "      fill: #FFFFFF;\n",
              "    }\n",
              "  </style>\n",
              "\n",
              "      <script>\n",
              "        const buttonEl =\n",
              "          document.querySelector('#df-3505ec3e-1e8c-4c7a-93da-b28eb842a9b8 button.colab-df-convert');\n",
              "        buttonEl.style.display =\n",
              "          google.colab.kernel.accessAllowed ? 'block' : 'none';\n",
              "\n",
              "        async function convertToInteractive(key) {\n",
              "          const element = document.querySelector('#df-3505ec3e-1e8c-4c7a-93da-b28eb842a9b8');\n",
              "          const dataTable =\n",
              "            await google.colab.kernel.invokeFunction('convertToInteractive',\n",
              "                                                     [key], {});\n",
              "          if (!dataTable) return;\n",
              "\n",
              "          const docLinkHtml = 'Like what you see? Visit the ' +\n",
              "            '<a target=\"_blank\" href=https://colab.research.google.com/notebooks/data_table.ipynb>data table notebook</a>'\n",
              "            + ' to learn more about interactive tables.';\n",
              "          element.innerHTML = '';\n",
              "          dataTable['output_type'] = 'display_data';\n",
              "          await google.colab.output.renderOutput(dataTable, element);\n",
              "          const docLink = document.createElement('div');\n",
              "          docLink.innerHTML = docLinkHtml;\n",
              "          element.appendChild(docLink);\n",
              "        }\n",
              "      </script>\n",
              "    </div>\n",
              "  </div>\n",
              "  "
            ],
            "text/plain": [
              "         count        mean         std   min     25%     50%     75%      max\n",
              "fraud                                                                        \n",
              "0      25445.0   32.391263   38.117929  0.01   13.66   26.62   42.24  2144.86\n",
              "1        414.0  588.380266  990.113782  4.32  159.98  317.97  573.39  7432.48"
            ]
          },
          "metadata": {},
          "execution_count": 194
        }
      ]
    },
    {
      "cell_type": "code",
      "source": [
        "data.head(2)"
      ],
      "metadata": {
        "colab": {
          "base_uri": "https://localhost:8080/",
          "height": 112
        },
        "id": "5XF4tWt-Lezz",
        "outputId": "914b7483-6602-4497-ce14-ea4660cfbb41"
      },
      "execution_count": null,
      "outputs": [
        {
          "output_type": "execute_result",
          "data": {
            "text/html": [
              "\n",
              "  <div id=\"df-18dde54d-2409-41e9-90bd-28108dbdf958\">\n",
              "    <div class=\"colab-df-container\">\n",
              "      <div>\n",
              "<style scoped>\n",
              "    .dataframe tbody tr th:only-of-type {\n",
              "        vertical-align: middle;\n",
              "    }\n",
              "\n",
              "    .dataframe tbody tr th {\n",
              "        vertical-align: top;\n",
              "    }\n",
              "\n",
              "    .dataframe thead th {\n",
              "        text-align: right;\n",
              "    }\n",
              "</style>\n",
              "<table border=\"1\" class=\"dataframe\">\n",
              "  <thead>\n",
              "    <tr style=\"text-align: right;\">\n",
              "      <th></th>\n",
              "      <th>step</th>\n",
              "      <th>customer</th>\n",
              "      <th>age</th>\n",
              "      <th>gender</th>\n",
              "      <th>merchant</th>\n",
              "      <th>category</th>\n",
              "      <th>amount</th>\n",
              "      <th>fraud</th>\n",
              "    </tr>\n",
              "  </thead>\n",
              "  <tbody>\n",
              "    <tr>\n",
              "      <th>0</th>\n",
              "      <td>0</td>\n",
              "      <td>178</td>\n",
              "      <td>4</td>\n",
              "      <td>1</td>\n",
              "      <td>29</td>\n",
              "      <td>12</td>\n",
              "      <td>4.55</td>\n",
              "      <td>0</td>\n",
              "    </tr>\n",
              "    <tr>\n",
              "      <th>1</th>\n",
              "      <td>0</td>\n",
              "      <td>2317</td>\n",
              "      <td>2</td>\n",
              "      <td>1</td>\n",
              "      <td>29</td>\n",
              "      <td>12</td>\n",
              "      <td>39.68</td>\n",
              "      <td>0</td>\n",
              "    </tr>\n",
              "  </tbody>\n",
              "</table>\n",
              "</div>\n",
              "      <button class=\"colab-df-convert\" onclick=\"convertToInteractive('df-18dde54d-2409-41e9-90bd-28108dbdf958')\"\n",
              "              title=\"Convert this dataframe to an interactive table.\"\n",
              "              style=\"display:none;\">\n",
              "        \n",
              "  <svg xmlns=\"http://www.w3.org/2000/svg\" height=\"24px\"viewBox=\"0 0 24 24\"\n",
              "       width=\"24px\">\n",
              "    <path d=\"M0 0h24v24H0V0z\" fill=\"none\"/>\n",
              "    <path d=\"M18.56 5.44l.94 2.06.94-2.06 2.06-.94-2.06-.94-.94-2.06-.94 2.06-2.06.94zm-11 1L8.5 8.5l.94-2.06 2.06-.94-2.06-.94L8.5 2.5l-.94 2.06-2.06.94zm10 10l.94 2.06.94-2.06 2.06-.94-2.06-.94-.94-2.06-.94 2.06-2.06.94z\"/><path d=\"M17.41 7.96l-1.37-1.37c-.4-.4-.92-.59-1.43-.59-.52 0-1.04.2-1.43.59L10.3 9.45l-7.72 7.72c-.78.78-.78 2.05 0 2.83L4 21.41c.39.39.9.59 1.41.59.51 0 1.02-.2 1.41-.59l7.78-7.78 2.81-2.81c.8-.78.8-2.07 0-2.86zM5.41 20L4 18.59l7.72-7.72 1.47 1.35L5.41 20z\"/>\n",
              "  </svg>\n",
              "      </button>\n",
              "      \n",
              "  <style>\n",
              "    .colab-df-container {\n",
              "      display:flex;\n",
              "      flex-wrap:wrap;\n",
              "      gap: 12px;\n",
              "    }\n",
              "\n",
              "    .colab-df-convert {\n",
              "      background-color: #E8F0FE;\n",
              "      border: none;\n",
              "      border-radius: 50%;\n",
              "      cursor: pointer;\n",
              "      display: none;\n",
              "      fill: #1967D2;\n",
              "      height: 32px;\n",
              "      padding: 0 0 0 0;\n",
              "      width: 32px;\n",
              "    }\n",
              "\n",
              "    .colab-df-convert:hover {\n",
              "      background-color: #E2EBFA;\n",
              "      box-shadow: 0px 1px 2px rgba(60, 64, 67, 0.3), 0px 1px 3px 1px rgba(60, 64, 67, 0.15);\n",
              "      fill: #174EA6;\n",
              "    }\n",
              "\n",
              "    [theme=dark] .colab-df-convert {\n",
              "      background-color: #3B4455;\n",
              "      fill: #D2E3FC;\n",
              "    }\n",
              "\n",
              "    [theme=dark] .colab-df-convert:hover {\n",
              "      background-color: #434B5C;\n",
              "      box-shadow: 0px 1px 3px 1px rgba(0, 0, 0, 0.15);\n",
              "      filter: drop-shadow(0px 1px 2px rgba(0, 0, 0, 0.3));\n",
              "      fill: #FFFFFF;\n",
              "    }\n",
              "  </style>\n",
              "\n",
              "      <script>\n",
              "        const buttonEl =\n",
              "          document.querySelector('#df-18dde54d-2409-41e9-90bd-28108dbdf958 button.colab-df-convert');\n",
              "        buttonEl.style.display =\n",
              "          google.colab.kernel.accessAllowed ? 'block' : 'none';\n",
              "\n",
              "        async function convertToInteractive(key) {\n",
              "          const element = document.querySelector('#df-18dde54d-2409-41e9-90bd-28108dbdf958');\n",
              "          const dataTable =\n",
              "            await google.colab.kernel.invokeFunction('convertToInteractive',\n",
              "                                                     [key], {});\n",
              "          if (!dataTable) return;\n",
              "\n",
              "          const docLinkHtml = 'Like what you see? Visit the ' +\n",
              "            '<a target=\"_blank\" href=https://colab.research.google.com/notebooks/data_table.ipynb>data table notebook</a>'\n",
              "            + ' to learn more about interactive tables.';\n",
              "          element.innerHTML = '';\n",
              "          dataTable['output_type'] = 'display_data';\n",
              "          await google.colab.output.renderOutput(dataTable, element);\n",
              "          const docLink = document.createElement('div');\n",
              "          docLink.innerHTML = docLinkHtml;\n",
              "          element.appendChild(docLink);\n",
              "        }\n",
              "      </script>\n",
              "    </div>\n",
              "  </div>\n",
              "  "
            ],
            "text/plain": [
              "   step  customer  age  gender  merchant  category  amount  fraud\n",
              "0     0       178    4       1        29        12    4.55      0\n",
              "1     0      2317    2       1        29        12   39.68      0"
            ]
          },
          "metadata": {},
          "execution_count": 195
        }
      ]
    },
    {
      "cell_type": "markdown",
      "source": [
        "# Declare feature and target variables"
      ],
      "metadata": {
        "id": "L-9kL1vDM6a9"
      }
    },
    {
      "cell_type": "code",
      "source": [
        "#split dataset into feature and target variables\n",
        "X = data.drop(['fraud'],1)\n",
        "y = data['fraud']\n",
        "print(X.head(),\"\\n\")\n",
        "print(y.head())"
      ],
      "metadata": {
        "id": "hOcAY7TIkWZo",
        "colab": {
          "base_uri": "https://localhost:8080/"
        },
        "outputId": "009048b6-81d6-4693-df9a-1bd8922e2c0b"
      },
      "execution_count": null,
      "outputs": [
        {
          "output_type": "stream",
          "name": "stdout",
          "text": [
            "   step  customer  age  gender  merchant  category  amount\n",
            "0     0       178    4       1        29        12    4.55\n",
            "1     0      2317    2       1        29        12   39.68\n",
            "2     0      1918    4       0        17        12   26.89\n",
            "3     0      1375    3       1        29        12   17.25\n",
            "4     0      3011    5       1        29        12   35.72 \n",
            "\n",
            "0    0\n",
            "1    0\n",
            "2    0\n",
            "3    0\n",
            "4    0\n",
            "Name: fraud, dtype: Int64\n"
          ]
        }
      ]
    },
    {
      "cell_type": "markdown",
      "source": [
        "# Oversampling with SMOTE\n",
        "\n",
        "Fraud data is imbalanced from the count of instances. To balance the dataset one can perform oversample. SMOTE works by selecting examples that are close in the feature space, drawing a line between the examples in the feature space and drawing a new sample at a point along that line"
      ],
      "metadata": {
        "id": "SXEVXsQNBPVn"
      }
    },
    {
      "cell_type": "code",
      "source": [
        "y[y==1].count()"
      ],
      "metadata": {
        "colab": {
          "base_uri": "https://localhost:8080/"
        },
        "id": "RSheLgbsP-xD",
        "outputId": "10364bc3-7f0b-4717-8513-5a7c3d71d3b5"
      },
      "execution_count": null,
      "outputs": [
        {
          "output_type": "execute_result",
          "data": {
            "text/plain": [
              "414"
            ]
          },
          "metadata": {},
          "execution_count": 212
        }
      ]
    },
    {
      "cell_type": "code",
      "source": [
        "sm = SMOTE(random_state=42)\n",
        "X, y = sm.fit_resample(X, y)\n",
        "y = pd.DataFrame(y)\n",
        "print(y[0].value_counts())"
      ],
      "metadata": {
        "id": "-_3TRu2qkzOC",
        "colab": {
          "base_uri": "https://localhost:8080/",
          "height": 363
        },
        "outputId": "1e25deb8-6999-46f0-9180-96921fa9224a"
      },
      "execution_count": null,
      "outputs": [
        {
          "output_type": "error",
          "ename": "ValueError",
          "evalue": "ignored",
          "traceback": [
            "\u001b[0;31m---------------------------------------------------------------------------\u001b[0m",
            "\u001b[0;31mValueError\u001b[0m                                Traceback (most recent call last)",
            "\u001b[0;32m<ipython-input-213-bc8aa28b4274>\u001b[0m in \u001b[0;36m<module>\u001b[0;34m()\u001b[0m\n\u001b[1;32m      1\u001b[0m \u001b[0msm\u001b[0m \u001b[0;34m=\u001b[0m \u001b[0mSMOTE\u001b[0m\u001b[0;34m(\u001b[0m\u001b[0mrandom_state\u001b[0m\u001b[0;34m=\u001b[0m\u001b[0;36m42\u001b[0m\u001b[0;34m)\u001b[0m\u001b[0;34m\u001b[0m\u001b[0;34m\u001b[0m\u001b[0m\n\u001b[0;32m----> 2\u001b[0;31m \u001b[0mX\u001b[0m\u001b[0;34m,\u001b[0m \u001b[0my\u001b[0m \u001b[0;34m=\u001b[0m \u001b[0msm\u001b[0m\u001b[0;34m.\u001b[0m\u001b[0mfit_resample\u001b[0m\u001b[0;34m(\u001b[0m\u001b[0mX\u001b[0m\u001b[0;34m,\u001b[0m \u001b[0my\u001b[0m\u001b[0;34m)\u001b[0m\u001b[0;34m\u001b[0m\u001b[0;34m\u001b[0m\u001b[0m\n\u001b[0m\u001b[1;32m      3\u001b[0m \u001b[0my\u001b[0m \u001b[0;34m=\u001b[0m \u001b[0mpd\u001b[0m\u001b[0;34m.\u001b[0m\u001b[0mDataFrame\u001b[0m\u001b[0;34m(\u001b[0m\u001b[0my\u001b[0m\u001b[0;34m)\u001b[0m\u001b[0;34m\u001b[0m\u001b[0;34m\u001b[0m\u001b[0m\n\u001b[1;32m      4\u001b[0m \u001b[0mprint\u001b[0m\u001b[0;34m(\u001b[0m\u001b[0my\u001b[0m\u001b[0;34m[\u001b[0m\u001b[0;36m0\u001b[0m\u001b[0;34m]\u001b[0m\u001b[0;34m.\u001b[0m\u001b[0mvalue_counts\u001b[0m\u001b[0;34m(\u001b[0m\u001b[0;34m)\u001b[0m\u001b[0;34m)\u001b[0m\u001b[0;34m\u001b[0m\u001b[0;34m\u001b[0m\u001b[0m\n",
            "\u001b[0;32m/usr/local/lib/python3.7/dist-packages/imblearn/base.py\u001b[0m in \u001b[0;36mfit_resample\u001b[0;34m(self, X, y)\u001b[0m\n\u001b[1;32m     73\u001b[0m             \u001b[0mThe\u001b[0m \u001b[0mcorresponding\u001b[0m \u001b[0mlabel\u001b[0m \u001b[0mof\u001b[0m\u001b[0;31m \u001b[0m\u001b[0;31m`\u001b[0m\u001b[0mX_resampled\u001b[0m\u001b[0;31m`\u001b[0m\u001b[0;34m.\u001b[0m\u001b[0;34m\u001b[0m\u001b[0;34m\u001b[0m\u001b[0m\n\u001b[1;32m     74\u001b[0m         \"\"\"\n\u001b[0;32m---> 75\u001b[0;31m         \u001b[0mcheck_classification_targets\u001b[0m\u001b[0;34m(\u001b[0m\u001b[0my\u001b[0m\u001b[0;34m)\u001b[0m\u001b[0;34m\u001b[0m\u001b[0;34m\u001b[0m\u001b[0m\n\u001b[0m\u001b[1;32m     76\u001b[0m         \u001b[0marrays_transformer\u001b[0m \u001b[0;34m=\u001b[0m \u001b[0mArraysTransformer\u001b[0m\u001b[0;34m(\u001b[0m\u001b[0mX\u001b[0m\u001b[0;34m,\u001b[0m \u001b[0my\u001b[0m\u001b[0;34m)\u001b[0m\u001b[0;34m\u001b[0m\u001b[0;34m\u001b[0m\u001b[0m\n\u001b[1;32m     77\u001b[0m         \u001b[0mX\u001b[0m\u001b[0;34m,\u001b[0m \u001b[0my\u001b[0m\u001b[0;34m,\u001b[0m \u001b[0mbinarize_y\u001b[0m \u001b[0;34m=\u001b[0m \u001b[0mself\u001b[0m\u001b[0;34m.\u001b[0m\u001b[0m_check_X_y\u001b[0m\u001b[0;34m(\u001b[0m\u001b[0mX\u001b[0m\u001b[0;34m,\u001b[0m \u001b[0my\u001b[0m\u001b[0;34m)\u001b[0m\u001b[0;34m\u001b[0m\u001b[0;34m\u001b[0m\u001b[0m\n",
            "\u001b[0;32m/usr/local/lib/python3.7/dist-packages/sklearn/utils/multiclass.py\u001b[0m in \u001b[0;36mcheck_classification_targets\u001b[0;34m(y)\u001b[0m\n\u001b[1;32m    195\u001b[0m         \u001b[0;34m\"multilabel-sequences\"\u001b[0m\u001b[0;34m,\u001b[0m\u001b[0;34m\u001b[0m\u001b[0;34m\u001b[0m\u001b[0m\n\u001b[1;32m    196\u001b[0m     ]:\n\u001b[0;32m--> 197\u001b[0;31m         \u001b[0;32mraise\u001b[0m \u001b[0mValueError\u001b[0m\u001b[0;34m(\u001b[0m\u001b[0;34m\"Unknown label type: %r\"\u001b[0m \u001b[0;34m%\u001b[0m \u001b[0my_type\u001b[0m\u001b[0;34m)\u001b[0m\u001b[0;34m\u001b[0m\u001b[0;34m\u001b[0m\u001b[0m\n\u001b[0m\u001b[1;32m    198\u001b[0m \u001b[0;34m\u001b[0m\u001b[0m\n\u001b[1;32m    199\u001b[0m \u001b[0;34m\u001b[0m\u001b[0m\n",
            "\u001b[0;31mValueError\u001b[0m: Unknown label type: 'unknown'"
          ]
        }
      ]
    },
    {
      "cell_type": "code",
      "source": [
        "#check if data is balanced\n",
        "print(y.value_counts())"
      ],
      "metadata": {
        "colab": {
          "base_uri": "https://localhost:8080/"
        },
        "id": "tEl0hUQOqDub",
        "outputId": "68ccab84-b29b-46eb-a7cd-2b32093c8cc1"
      },
      "execution_count": null,
      "outputs": [
        {
          "output_type": "stream",
          "name": "stdout",
          "text": [
            "0    25445\n",
            "1      414\n",
            "Name: fraud, dtype: Int64\n"
          ]
        }
      ]
    },
    {
      "cell_type": "markdown",
      "source": [
        "Our data is now balanced. We can proceed to the next step"
      ],
      "metadata": {
        "id": "ekcyV_ykNxEm"
      }
    },
    {
      "cell_type": "markdown",
      "source": [
        "# Split data into separate training and test set\n",
        "\n",
        "-We will partition our dataset into 80-20 sets"
      ],
      "metadata": {
        "id": "GZhWsclRN_P8"
      }
    },
    {
      "cell_type": "code",
      "source": [
        "X_train, X_test, y_train, y_test = train_test_split(X,y,test_size=0.2,random_state=42,shuffle=True,stratify=y)"
      ],
      "metadata": {
        "id": "wkUADP20qhkZ"
      },
      "execution_count": null,
      "outputs": []
    },
    {
      "cell_type": "markdown",
      "source": [
        "# Feature Scaling\n",
        "\n",
        "We will use StandardScaler so that our feature values are centered around the mean with a unit standard deviation"
      ],
      "metadata": {
        "id": "29ICtW8MONiC"
      }
    },
    {
      "cell_type": "code",
      "source": [
        "sc = StandardScaler()\n",
        "X_train = sc.fit_transform(X_train)\n",
        "X_test = sc.transform(X_test)"
      ],
      "metadata": {
        "id": "90kZU2saOXSu"
      },
      "execution_count": null,
      "outputs": []
    },
    {
      "cell_type": "markdown",
      "source": [
        "# Model building\n",
        "\n",
        "We will train the following machine learning algorithms\n",
        "\n",
        "**We shall use Logistic regression as our baseline model.**\n",
        "1. RandomForestClassifier\n",
        "2. KNeighborsClassifier\n",
        "3. Support Vector Machine\n",
        "4. GradientBoostingClassifier\n",
        "\n",
        "We will then choose the best algorithm and tune it"
      ],
      "metadata": {
        "id": "81F0x34MT0qM"
      }
    },
    {
      "cell_type": "markdown",
      "source": [
        "\n",
        "**Metric selection for imbalanced data**\n",
        "\n",
        "We are going to use ROC-AUC score and classification report as the evaluation metric for the model evaluation purpose. As the data is highly imbalanced and we have only 1.2% fraud cases in the whole data, accuracy will not be the right metric to evaluate the model."
      ],
      "metadata": {
        "id": "q7WvPd3uTVTV"
      }
    },
    {
      "cell_type": "markdown",
      "source": [
        "First, we shall create a baseline model. A baseline provides a point of comparison for the more advanced methods that you evaluate later. We chose Logistic Regression algorithm for this."
      ],
      "metadata": {
        "id": "_g03tqMsRce6"
      }
    },
    {
      "cell_type": "markdown",
      "source": [
        "# Logistic Regression "
      ],
      "metadata": {
        "id": "kAoKy53QUSGs"
      }
    },
    {
      "cell_type": "code",
      "source": [
        "from sklearn.linear_model import LogisticRegression\n",
        "#fit our model\n",
        "LogReg = LogisticRegression()\n",
        "LogReg.fit(X_train, y_train)\n",
        "#make predictions\n",
        "y_pred = LogReg.predict(X_test)\n",
        "#evaluate the model \n",
        "from sklearn.metrics import roc_curve, roc_auc_score"
      ],
      "metadata": {
        "id": "batMAH_BVrQj"
      },
      "execution_count": null,
      "outputs": []
    },
    {
      "cell_type": "code",
      "source": [
        "print(roc_auc_score(y_test, y_pred))"
      ],
      "metadata": {
        "colab": {
          "base_uri": "https://localhost:8080/"
        },
        "id": "Bf1BWTFfb2iL",
        "outputId": "4a5f70bb-699f-4f33-c931-c6530b08ce8b"
      },
      "execution_count": null,
      "outputs": [
        {
          "output_type": "stream",
          "name": "stdout",
          "text": [
            "0.9241705309320968\n"
          ]
        }
      ]
    },
    {
      "cell_type": "code",
      "source": [
        "from sklearn.metrics import classification_report"
      ],
      "metadata": {
        "id": "cIFjmQEgcr5Y"
      },
      "execution_count": null,
      "outputs": []
    },
    {
      "cell_type": "code",
      "source": [
        "print(classification_report(y_test, y_pred))"
      ],
      "metadata": {
        "colab": {
          "base_uri": "https://localhost:8080/"
        },
        "id": "UNkfJNyLc0yq",
        "outputId": "ac7746ed-43c5-4a9c-d129-6aa020345938"
      },
      "execution_count": null,
      "outputs": [
        {
          "output_type": "stream",
          "name": "stdout",
          "text": [
            "              precision    recall  f1-score   support\n",
            "\n",
            "         0.0       0.90      0.95      0.93     27819\n",
            "         1.0       0.95      0.90      0.92     27819\n",
            "\n",
            "    accuracy                           0.92     55638\n",
            "   macro avg       0.93      0.92      0.92     55638\n",
            "weighted avg       0.93      0.92      0.92     55638\n",
            "\n"
          ]
        }
      ]
    },
    {
      "cell_type": "markdown",
      "source": [
        "# RandomForestClassifier"
      ],
      "metadata": {
        "id": "6e3J2c7tPnZx"
      }
    },
    {
      "cell_type": "code",
      "source": [
        "#train model\n",
        "#random forest\n",
        "rf = RandomForestClassifier()\n",
        "#\n",
        "#fit the model\n",
        "rf.fit(X_train,y_train)\n",
        "\n",
        "#predictions\n",
        "y_pred = rf.predict(X_test)\n",
        "\n",
        "#print model accuracy\n",
        "\n",
        "print('Model roc score :', roc_auc_score(y_test, y_pred))\n",
        "\n",
        "print('Classification Report ;', classification_report(y_test, y_pred))\n"
      ],
      "metadata": {
        "colab": {
          "base_uri": "https://localhost:8080/"
        },
        "id": "wGqAk7nPRVN_",
        "outputId": "e3c635a8-1f59-48f4-b490-384ea75fd0cb"
      },
      "execution_count": null,
      "outputs": [
        {
          "output_type": "stream",
          "name": "stdout",
          "text": [
            "Model roc score : 0.9944102951220389\n",
            "Classification Report ;               precision    recall  f1-score   support\n",
            "\n",
            "         0.0       1.00      0.99      0.99     27819\n",
            "         1.0       0.99      1.00      0.99     27819\n",
            "\n",
            "    accuracy                           0.99     55638\n",
            "   macro avg       0.99      0.99      0.99     55638\n",
            "weighted avg       0.99      0.99      0.99     55638\n",
            "\n"
          ]
        }
      ]
    },
    {
      "cell_type": "markdown",
      "source": [
        "# KNeighborsClassifier"
      ],
      "metadata": {
        "id": "j4Ym8MEtPxDE"
      }
    },
    {
      "cell_type": "code",
      "source": [
        "# instantiate the model\n",
        "knn = KNeighborsClassifier()\n",
        "\n",
        "# fit the model to the training set\n",
        "knn.fit(X_train, y_train)\n",
        "\n",
        "#make predictions\n",
        "y_pred = knn.predict(X_test)\n",
        "\n",
        "y_pred\n",
        "\n",
        "#print model accuracy\n",
        "print('Model roc score :', roc_auc_score(y_test, y_pred))\n",
        "\n",
        "print('Classification Report ;', classification_report(y_test, y_pred))\n"
      ],
      "metadata": {
        "colab": {
          "base_uri": "https://localhost:8080/"
        },
        "id": "BhMQ0iuGslI1",
        "outputId": "ed8e6185-d511-4bef-fc02-58e3c22ebb03"
      },
      "execution_count": null,
      "outputs": [
        {
          "output_type": "stream",
          "name": "stdout",
          "text": [
            "Model roc score : 0.9825658722455874\n",
            "Classification Report ;               precision    recall  f1-score   support\n",
            "\n",
            "         0.0       0.99      0.97      0.98     27819\n",
            "         1.0       0.97      0.99      0.98     27819\n",
            "\n",
            "    accuracy                           0.98     55638\n",
            "   macro avg       0.98      0.98      0.98     55638\n",
            "weighted avg       0.98      0.98      0.98     55638\n",
            "\n"
          ]
        }
      ]
    },
    {
      "cell_type": "markdown",
      "source": [
        "# Support Vector Machine"
      ],
      "metadata": {
        "id": "6PQCwgxYP4QD"
      }
    },
    {
      "cell_type": "code",
      "source": [
        "svc=SVC() #Default hyperparameters\n",
        "svc.fit(X_train,y_train)\n",
        "y_pred=svc.predict(X_test)\n",
        "\n",
        "print('Model roc score :', roc_auc_score(y_test, y_pred))\n",
        "\n",
        "print('Classification Report ;', classification_report(y_test, y_pred))"
      ],
      "metadata": {
        "id": "5VBIZDqmoT3C",
        "colab": {
          "base_uri": "https://localhost:8080/"
        },
        "outputId": "cc4183ed-df17-42aa-d686-3d77e2986ec1"
      },
      "execution_count": null,
      "outputs": [
        {
          "output_type": "stream",
          "name": "stdout",
          "text": [
            "Model roc score : 0.9714044358172471\n",
            "Classification Report ;               precision    recall  f1-score   support\n",
            "\n",
            "         0.0       0.98      0.96      0.97     27819\n",
            "         1.0       0.96      0.98      0.97     27819\n",
            "\n",
            "    accuracy                           0.97     55638\n",
            "   macro avg       0.97      0.97      0.97     55638\n",
            "weighted avg       0.97      0.97      0.97     55638\n",
            "\n"
          ]
        }
      ]
    },
    {
      "cell_type": "markdown",
      "source": [
        "# GradientBoostingClassifier"
      ],
      "metadata": {
        "id": "ShoxNOrJP_y6"
      }
    },
    {
      "cell_type": "code",
      "source": [
        "##impport the ckassifier and instantiate\n",
        "from sklearn.ensemble import GradientBoostingClassifier\n",
        "gb = GradientBoostingClassifier()\n",
        "\n",
        "#train the model\n",
        "gb.fit(X_train,y_train)\n",
        "\n",
        " #predict test set results\n",
        "y_pred = gb.predict(X_test)\n",
        "\n",
        "#evaluate the model\n",
        "gradientboost_accuracy = roc_auc_score(y_test,y_pred) \n",
        "print('Accuracy =',gradientboost_accuracy)\n",
        "print('***************************************\\n')\n",
        "print('Classification Report ;', classification_report(y_test, y_pred))"
      ],
      "metadata": {
        "id": "TRsbPI5bquzY",
        "colab": {
          "base_uri": "https://localhost:8080/"
        },
        "outputId": "0e50b049-d005-46e8-eeb4-21332ae301b7"
      },
      "execution_count": null,
      "outputs": [
        {
          "output_type": "stream",
          "name": "stdout",
          "text": [
            "Accuracy = 0.9753046479025127\n",
            "***************************************\n",
            "\n",
            "Classification Report ;               precision    recall  f1-score   support\n",
            "\n",
            "         0.0       0.98      0.97      0.98     27819\n",
            "         1.0       0.97      0.98      0.98     27819\n",
            "\n",
            "    accuracy                           0.98     55638\n",
            "   macro avg       0.98      0.98      0.98     55638\n",
            "weighted avg       0.98      0.98      0.98     55638\n",
            "\n"
          ]
        }
      ]
    },
    {
      "cell_type": "markdown",
      "source": [
        "Our baseline model seems to perform better than any of other models at 92% accuracy. The other models are overfitting. Let us improve the perfomance by tuning our best model using hyperparameter tuning."
      ],
      "metadata": {
        "id": "P42nJnRJ3jYw"
      }
    },
    {
      "cell_type": "markdown",
      "source": [
        "# Hypeparameter tuning"
      ],
      "metadata": {
        "id": "OuuxOKQa4wFw"
      }
    },
    {
      "cell_type": "code",
      "source": [
        "# defining models and parameters\n",
        "model = LogisticRegression()\n",
        "solvers = ['newton-cg', 'lbfgs', 'liblinear']\n",
        "penalty = ['l2']\n",
        "c_values = [100, 10, 1.0, 0.1, 0.01]"
      ],
      "metadata": {
        "id": "4ZIf99l24plh"
      },
      "execution_count": null,
      "outputs": []
    },
    {
      "cell_type": "code",
      "source": [
        "\n",
        "from sklearn.model_selection import RepeatedStratifiedKFold\n",
        "from sklearn.model_selection import GridSearchCV\n",
        "from sklearn.linear_model import LogisticRegression\n",
        "\n",
        "# define models and parameters\n",
        "model = LogisticRegression()\n",
        "solvers = ['newton-cg', 'lbfgs', 'liblinear']\n",
        "penalty = ['l2']\n",
        "c_values = [100, 10, 1.0, 0.1, 0.01]\n",
        "# define grid search\n",
        "grid = dict(solver=solvers,penalty=penalty,C=c_values)\n",
        "cv = RepeatedStratifiedKFold(n_splits=10, n_repeats=3, random_state=1)\n",
        "grid_search = GridSearchCV(estimator=model, param_grid=grid, n_jobs=-1, cv=cv, scoring='accuracy',error_score=0)\n",
        "grid_result = grid_search.fit(X, y)\n",
        "# summarize results\n",
        "print(\"Best: %f using %s\" % (grid_result.best_score_, grid_result.best_params_))\n",
        "means = grid_result.cv_results_['mean_test_score']\n",
        "stds = grid_result.cv_results_['std_test_score']\n",
        "params = grid_result.cv_results_['params']\n",
        "for mean, stdev, param in zip(means, stds, params):\n",
        "    print(\"%f (%f) with: %r\" % (mean, stdev, param))\n",
        "\n",
        "\n"
      ],
      "metadata": {
        "colab": {
          "base_uri": "https://localhost:8080/"
        },
        "id": "4iB9MujM7NZR",
        "outputId": "3c404477-6f19-4568-b6e7-567fcb11cf72"
      },
      "execution_count": null,
      "outputs": [
        {
          "output_type": "stream",
          "name": "stdout",
          "text": [
            "Best: 0.925713 using {'C': 100, 'penalty': 'l2', 'solver': 'newton-cg'}\n",
            "0.925713 (0.001420) with: {'C': 100, 'penalty': 'l2', 'solver': 'newton-cg'}\n",
            "0.923052 (0.002978) with: {'C': 100, 'penalty': 'l2', 'solver': 'lbfgs'}\n",
            "0.924813 (0.001401) with: {'C': 100, 'penalty': 'l2', 'solver': 'liblinear'}\n",
            "0.925713 (0.001420) with: {'C': 10, 'penalty': 'l2', 'solver': 'newton-cg'}\n",
            "0.922821 (0.002951) with: {'C': 10, 'penalty': 'l2', 'solver': 'lbfgs'}\n",
            "0.924784 (0.001393) with: {'C': 10, 'penalty': 'l2', 'solver': 'liblinear'}\n",
            "0.925707 (0.001415) with: {'C': 1.0, 'penalty': 'l2', 'solver': 'newton-cg'}\n",
            "0.923210 (0.003231) with: {'C': 1.0, 'penalty': 'l2', 'solver': 'lbfgs'}\n",
            "0.924784 (0.001402) with: {'C': 1.0, 'penalty': 'l2', 'solver': 'liblinear'}\n",
            "0.925684 (0.001417) with: {'C': 0.1, 'penalty': 'l2', 'solver': 'newton-cg'}\n",
            "0.923307 (0.003418) with: {'C': 0.1, 'penalty': 'l2', 'solver': 'lbfgs'}\n",
            "0.924759 (0.001395) with: {'C': 0.1, 'penalty': 'l2', 'solver': 'liblinear'}\n",
            "0.925448 (0.001433) with: {'C': 0.01, 'penalty': 'l2', 'solver': 'newton-cg'}\n",
            "0.923190 (0.003119) with: {'C': 0.01, 'penalty': 'l2', 'solver': 'lbfgs'}\n",
            "0.924574 (0.001370) with: {'C': 0.01, 'penalty': 'l2', 'solver': 'liblinear'}\n"
          ]
        }
      ]
    },
    {
      "cell_type": "code",
      "source": [
        "from sklearn.model_selection import RepeatedStratifiedKFold\n",
        "from sklearn.model_selection import GridSearchCV\n",
        "from sklearn.linear_model import LogisticRegression\n",
        "\n",
        "# define models and parameters\n",
        "model = LogisticRegression()\n",
        "solvers = ['newton-cg', 'lbfgs', 'liblinear']\n",
        "penalty = ['none']\n",
        "c_values = [100, 10, 1.0, 0.1, 0.01]\n",
        "# define grid search\n",
        "grid = dict(solver=solvers,penalty=penalty,C=c_values)\n",
        "cv = RepeatedStratifiedKFold(n_splits=10, n_repeats=3, random_state=1)\n",
        "grid_search = GridSearchCV(estimator=model, param_grid=grid, n_jobs=-1, cv=cv, scoring='accuracy',error_score=0)\n",
        "grid_result = grid_search.fit(X, y)\n",
        "# summarize results\n",
        "print(\"Best: %f using %s\" % (grid_result.best_score_, grid_result.best_params_))\n",
        "means = grid_result.cv_results_['mean_test_score']\n",
        "stds = grid_result.cv_results_['std_test_score']\n",
        "params = grid_result.cv_results_['params']\n",
        "for mean, stdev, param in zip(means, stds, params):\n",
        "    print(\"%f (%f) with: %r\" % (mean, stdev, param))"
      ],
      "metadata": {
        "colab": {
          "base_uri": "https://localhost:8080/"
        },
        "id": "y3u1Q-uKFzM9",
        "outputId": "0209ec9a-1e1a-4d7a-b660-b84e4255dada"
      },
      "execution_count": null,
      "outputs": [
        {
          "output_type": "stream",
          "name": "stdout",
          "text": [
            "Best: 0.925713 using {'C': 100, 'penalty': 'none', 'solver': 'newton-cg'}\n",
            "0.925713 (0.001420) with: {'C': 100, 'penalty': 'none', 'solver': 'newton-cg'}\n",
            "0.923262 (0.003130) with: {'C': 100, 'penalty': 'none', 'solver': 'lbfgs'}\n",
            "0.000000 (0.000000) with: {'C': 100, 'penalty': 'none', 'solver': 'liblinear'}\n",
            "0.925713 (0.001420) with: {'C': 10, 'penalty': 'none', 'solver': 'newton-cg'}\n",
            "0.923262 (0.003130) with: {'C': 10, 'penalty': 'none', 'solver': 'lbfgs'}\n",
            "0.000000 (0.000000) with: {'C': 10, 'penalty': 'none', 'solver': 'liblinear'}\n",
            "0.925713 (0.001420) with: {'C': 1.0, 'penalty': 'none', 'solver': 'newton-cg'}\n",
            "0.923262 (0.003130) with: {'C': 1.0, 'penalty': 'none', 'solver': 'lbfgs'}\n",
            "0.000000 (0.000000) with: {'C': 1.0, 'penalty': 'none', 'solver': 'liblinear'}\n",
            "0.925713 (0.001420) with: {'C': 0.1, 'penalty': 'none', 'solver': 'newton-cg'}\n",
            "0.923262 (0.003130) with: {'C': 0.1, 'penalty': 'none', 'solver': 'lbfgs'}\n",
            "0.000000 (0.000000) with: {'C': 0.1, 'penalty': 'none', 'solver': 'liblinear'}\n",
            "0.925713 (0.001420) with: {'C': 0.01, 'penalty': 'none', 'solver': 'newton-cg'}\n",
            "0.923262 (0.003130) with: {'C': 0.01, 'penalty': 'none', 'solver': 'lbfgs'}\n",
            "0.000000 (0.000000) with: {'C': 0.01, 'penalty': 'none', 'solver': 'liblinear'}\n"
          ]
        }
      ]
    },
    {
      "cell_type": "markdown",
      "source": [
        "# Conclusion"
      ],
      "metadata": {
        "id": "k-nAKHUbQOVJ"
      }
    },
    {
      "cell_type": "markdown",
      "source": [
        "Logistic regression seems to be the best model with an accuracy of 92%. With hyperparameter tuning, We expect to improve the performance of the model."
      ],
      "metadata": {
        "id": "f3S5jCkqETIF"
      }
    },
    {
      "cell_type": "markdown",
      "source": [
        "# Recommendation"
      ],
      "metadata": {
        "id": "TTw9KdDJQRak"
      }
    },
    {
      "cell_type": "markdown",
      "source": [
        "Being an industry that is growing and constantly vulnerable to fraud, we reccommend more specific and timely data on an areas of vulnerability. This data may include... Location, time and other factors that makes one vulnerable.\n",
        "\n",
        "*   Raise awareness on specific industries that are prone to fraud and work with the industries to reduce the vulnerabilities.\n",
        "\n",
        "*   Introduce tighter measures on the ages and categories that have been found to have greater appetite for fraud.\n",
        "\n",
        "\n",
        "\n",
        "\n",
        "\n"
      ],
      "metadata": {
        "id": "DgVVVO_iCgzT"
      }
    }
  ]
}